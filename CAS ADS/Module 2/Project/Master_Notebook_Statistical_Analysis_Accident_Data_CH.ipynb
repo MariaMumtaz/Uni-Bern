{
 "cells": [
  {
   "cell_type": "markdown",
   "metadata": {
    "id": "vHTd0oxVBDUg"
   },
   "source": [
    "## Statistical Analysis of the Road Traffic Accidents in Switzerland\n",
    "\n",
    "#### About the Data:\n",
    "Anonymised visualisation and positioning of road traffic accidents with injury to persons since 2011. Information on the year, the month, the weekday, the time of the accident, the type of road, the type of accident and the category of severity is provided for road traffic accidents.\n",
    "\n",
    "https://opendata.swiss/en/dataset/strassenverkehrsunfalle-mit-personenschaden"
   ]
  },
  {
   "cell_type": "markdown",
   "metadata": {
    "id": "SypvmIJKEO6g"
   },
   "source": [
    "## 1) Background Information on the Analysis and Goals\n",
    "According to the latest available data, 179 persons lost their lives in traffic crashes in Switzerland in 2019. This represents a 21.5% decrease on 2018. In 2018, 228 road deaths were reported – a 3.9% increase on 2017. The longer-term trend for road deaths in Switzerland has been impressive.\n",
    "\n",
    "Our Goal is to do some Exploratory Data Analysis followed by Hypothesis testing on various factors that are related to Road Accidents and finally the prediction based on the trend we observed in the past 10 years.  "
   ]
  },
  {
   "cell_type": "markdown",
   "metadata": {
    "id": "RdMD4gQTEO6g"
   },
   "source": [
    "## 2) Loading and Cleaning the Data\n",
    "In the following the data will be cleaned and some preliminary tests will be conducted to gain a deeper understanding of the data."
   ]
  },
  {
   "cell_type": "code",
   "execution_count": 1,
   "metadata": {
    "id": "UxFXvu55BDUk"
   },
   "outputs": [],
   "source": [
    "#import the libraries\n",
    "import pandas as pd\n",
    "import numpy as np\n",
    "from scipy import stats\n",
    "from unicodedata import normalize\n",
    "from pandas.plotting import scatter_matrix\n",
    "import matplotlib.pyplot as plt\n",
    "import matplotlib.lines as mlines\n",
    "import seaborn as sns\n",
    "%matplotlib inline"
   ]
  },
  {
   "cell_type": "code",
   "execution_count": 2,
   "metadata": {
    "id": "ApCWGdyzBDUm"
   },
   "outputs": [],
   "source": [
    "#load the data\n",
    "df = pd.read_csv('data/RoadTrafficAccidentLocations.csv', encoding='utf-8')\n",
    "df.MunicipalityCode = df.MunicipalityCode.astype('str').apply(lambda x: '{0:0>4}'.format(x))"
   ]
  },
  {
   "cell_type": "code",
   "execution_count": 3,
   "metadata": {
    "colab": {
     "base_uri": "https://localhost:8080/"
    },
    "id": "V1D4tNQCBDUn",
    "outputId": "51356a20-ff40-4085-e2ee-3c9c39ea6a61"
   },
   "outputs": [
    {
     "name": "stdout",
     "output_type": "stream",
     "text": [
      "<class 'pandas.core.frame.DataFrame'>\n",
      "RangeIndex: 178217 entries, 0 to 178216\n",
      "Data columns (total 36 columns):\n",
      " #   Column                       Non-Null Count   Dtype  \n",
      "---  ------                       --------------   -----  \n",
      " 0   AccidentUID                  178217 non-null  object \n",
      " 1   AccidentType                 178217 non-null  object \n",
      " 2   AccidentType_de              178217 non-null  object \n",
      " 3   AccidentType_fr              178217 non-null  object \n",
      " 4   AccidentType_it              178217 non-null  object \n",
      " 5   AccidentType_en              178217 non-null  object \n",
      " 6   AccidentSeverityCategory     178217 non-null  object \n",
      " 7   AccidentSeverityCategory_de  178217 non-null  object \n",
      " 8   AccidentSeverityCategory_fr  178217 non-null  object \n",
      " 9   AccidentSeverityCategory_it  178217 non-null  object \n",
      " 10  AccidentSeverityCategory_en  178217 non-null  object \n",
      " 11  AccidentInvolvingPedestrian  178217 non-null  bool   \n",
      " 12  AccidentInvolvingBicycle     178217 non-null  bool   \n",
      " 13  AccidentInvolvingMotorcycle  178217 non-null  bool   \n",
      " 14  RoadType                     178217 non-null  object \n",
      " 15  RoadType_de                  178217 non-null  object \n",
      " 16  RoadType_fr                  178217 non-null  object \n",
      " 17  RoadType_it                  178217 non-null  object \n",
      " 18  RoadType_en                  178217 non-null  object \n",
      " 19  AccidentLocation_CHLV95_E    178217 non-null  int64  \n",
      " 20  AccidentLocation_CHLV95_N    178217 non-null  int64  \n",
      " 21  CantonCode                   178217 non-null  object \n",
      " 22  MunicipalityCode             178217 non-null  object \n",
      " 23  AccidentYear                 178217 non-null  int64  \n",
      " 24  AccidentMonth                178217 non-null  int64  \n",
      " 25  AccidentMonth_de             178217 non-null  object \n",
      " 26  AccidentMonth_fr             178217 non-null  object \n",
      " 27  AccidentMonth_it             178217 non-null  object \n",
      " 28  AccidentMonth_en             178217 non-null  object \n",
      " 29  AccidentWeekDay              178217 non-null  object \n",
      " 30  AccidentWeekDay_de           178217 non-null  object \n",
      " 31  AccidentWeekDay_fr           178217 non-null  object \n",
      " 32  AccidentWeekDay_it           178217 non-null  object \n",
      " 33  AccidentWeekDay_en           178217 non-null  object \n",
      " 34  AccidentHour                 178212 non-null  float64\n",
      " 35  AccidentHour_text            178217 non-null  object \n",
      "dtypes: bool(3), float64(1), int64(4), object(28)\n",
      "memory usage: 45.4+ MB\n"
     ]
    }
   ],
   "source": [
    "#retriev information on the data\n",
    "df.info()"
   ]
  },
  {
   "cell_type": "code",
   "execution_count": 4,
   "metadata": {
    "colab": {
     "base_uri": "https://localhost:8080/",
     "height": 360
    },
    "id": "FVpg-RKtBDUo",
    "outputId": "cab32bc4-2c5b-48f3-c653-10dcfca2e33f"
   },
   "outputs": [
    {
     "data": {
      "text/html": [
       "<div>\n",
       "<style scoped>\n",
       "    .dataframe tbody tr th:only-of-type {\n",
       "        vertical-align: middle;\n",
       "    }\n",
       "\n",
       "    .dataframe tbody tr th {\n",
       "        vertical-align: top;\n",
       "    }\n",
       "\n",
       "    .dataframe thead th {\n",
       "        text-align: right;\n",
       "    }\n",
       "</style>\n",
       "<table border=\"1\" class=\"dataframe\">\n",
       "  <thead>\n",
       "    <tr style=\"text-align: right;\">\n",
       "      <th></th>\n",
       "      <th>AccidentUID</th>\n",
       "      <th>AccidentType</th>\n",
       "      <th>AccidentType_de</th>\n",
       "      <th>AccidentType_fr</th>\n",
       "      <th>AccidentType_it</th>\n",
       "      <th>AccidentType_en</th>\n",
       "      <th>AccidentSeverityCategory</th>\n",
       "      <th>AccidentSeverityCategory_de</th>\n",
       "      <th>AccidentSeverityCategory_fr</th>\n",
       "      <th>AccidentSeverityCategory_it</th>\n",
       "      <th>...</th>\n",
       "      <th>AccidentMonth_fr</th>\n",
       "      <th>AccidentMonth_it</th>\n",
       "      <th>AccidentMonth_en</th>\n",
       "      <th>AccidentWeekDay</th>\n",
       "      <th>AccidentWeekDay_de</th>\n",
       "      <th>AccidentWeekDay_fr</th>\n",
       "      <th>AccidentWeekDay_it</th>\n",
       "      <th>AccidentWeekDay_en</th>\n",
       "      <th>AccidentHour</th>\n",
       "      <th>AccidentHour_text</th>\n",
       "    </tr>\n",
       "  </thead>\n",
       "  <tbody>\n",
       "    <tr>\n",
       "      <th>0</th>\n",
       "      <td>9FD6441F802C20A6E0430A865E3320A6</td>\n",
       "      <td>at0</td>\n",
       "      <td>Schleuder- oder Selbstunfall</td>\n",
       "      <td>dérapage ou perte de maîtrise</td>\n",
       "      <td>Incidente di sbandamento o per colpa propria</td>\n",
       "      <td>Accident with skidding or self-accident</td>\n",
       "      <td>as3</td>\n",
       "      <td>Unfall mit Leichtverletzten</td>\n",
       "      <td>accident avec blessés légers</td>\n",
       "      <td>Incidente con feriti leggeri</td>\n",
       "      <td>...</td>\n",
       "      <td>janvier</td>\n",
       "      <td>Gennaio</td>\n",
       "      <td>January</td>\n",
       "      <td>aw406</td>\n",
       "      <td>Samstag</td>\n",
       "      <td>samedi</td>\n",
       "      <td>Sabato</td>\n",
       "      <td>Saturday</td>\n",
       "      <td>1.0</td>\n",
       "      <td>01h-02h</td>\n",
       "    </tr>\n",
       "    <tr>\n",
       "      <th>1</th>\n",
       "      <td>99AE7B25356510B0E0430A865E3310B0</td>\n",
       "      <td>at4</td>\n",
       "      <td>Einbiegeunfall</td>\n",
       "      <td>accident en s'engageant sur une route</td>\n",
       "      <td>Incidente nell’immettersi in una strada</td>\n",
       "      <td>Accident when turning-into main road</td>\n",
       "      <td>as3</td>\n",
       "      <td>Unfall mit Leichtverletzten</td>\n",
       "      <td>accident avec blessés légers</td>\n",
       "      <td>Incidente con feriti leggeri</td>\n",
       "      <td>...</td>\n",
       "      <td>janvier</td>\n",
       "      <td>Gennaio</td>\n",
       "      <td>January</td>\n",
       "      <td>aw406</td>\n",
       "      <td>Samstag</td>\n",
       "      <td>samedi</td>\n",
       "      <td>Sabato</td>\n",
       "      <td>Saturday</td>\n",
       "      <td>1.0</td>\n",
       "      <td>01h-02h</td>\n",
       "    </tr>\n",
       "    <tr>\n",
       "      <th>2</th>\n",
       "      <td>9A096471BA579094E0430A865E339094</td>\n",
       "      <td>at00</td>\n",
       "      <td>Andere</td>\n",
       "      <td>autres</td>\n",
       "      <td>Altri</td>\n",
       "      <td>Other</td>\n",
       "      <td>as2</td>\n",
       "      <td>Unfall mit Schwerverletzten</td>\n",
       "      <td>accident avec blessés graves</td>\n",
       "      <td>Incidente con feriti gravi</td>\n",
       "      <td>...</td>\n",
       "      <td>janvier</td>\n",
       "      <td>Gennaio</td>\n",
       "      <td>January</td>\n",
       "      <td>aw406</td>\n",
       "      <td>Samstag</td>\n",
       "      <td>samedi</td>\n",
       "      <td>Sabato</td>\n",
       "      <td>Saturday</td>\n",
       "      <td>2.0</td>\n",
       "      <td>02h-03h</td>\n",
       "    </tr>\n",
       "    <tr>\n",
       "      <th>3</th>\n",
       "      <td>9B1F49744917E014E0430A865E33E014</td>\n",
       "      <td>at3</td>\n",
       "      <td>Abbiegeunfall</td>\n",
       "      <td>accident en quittant une route</td>\n",
       "      <td>Incidente nello svoltare</td>\n",
       "      <td>Accident when turning left or right</td>\n",
       "      <td>as3</td>\n",
       "      <td>Unfall mit Leichtverletzten</td>\n",
       "      <td>accident avec blessés légers</td>\n",
       "      <td>Incidente con feriti leggeri</td>\n",
       "      <td>...</td>\n",
       "      <td>janvier</td>\n",
       "      <td>Gennaio</td>\n",
       "      <td>January</td>\n",
       "      <td>aw406</td>\n",
       "      <td>Samstag</td>\n",
       "      <td>samedi</td>\n",
       "      <td>Sabato</td>\n",
       "      <td>Saturday</td>\n",
       "      <td>2.0</td>\n",
       "      <td>02h-03h</td>\n",
       "    </tr>\n",
       "    <tr>\n",
       "      <th>4</th>\n",
       "      <td>99B6C7F3285BB044E0430A865E33B044</td>\n",
       "      <td>at0</td>\n",
       "      <td>Schleuder- oder Selbstunfall</td>\n",
       "      <td>dérapage ou perte de maîtrise</td>\n",
       "      <td>Incidente di sbandamento o per colpa propria</td>\n",
       "      <td>Accident with skidding or self-accident</td>\n",
       "      <td>as2</td>\n",
       "      <td>Unfall mit Schwerverletzten</td>\n",
       "      <td>accident avec blessés graves</td>\n",
       "      <td>Incidente con feriti gravi</td>\n",
       "      <td>...</td>\n",
       "      <td>janvier</td>\n",
       "      <td>Gennaio</td>\n",
       "      <td>January</td>\n",
       "      <td>aw406</td>\n",
       "      <td>Samstag</td>\n",
       "      <td>samedi</td>\n",
       "      <td>Sabato</td>\n",
       "      <td>Saturday</td>\n",
       "      <td>2.0</td>\n",
       "      <td>02h-03h</td>\n",
       "    </tr>\n",
       "  </tbody>\n",
       "</table>\n",
       "<p>5 rows × 36 columns</p>\n",
       "</div>"
      ],
      "text/plain": [
       "                        AccidentUID AccidentType  \\\n",
       "0  9FD6441F802C20A6E0430A865E3320A6          at0   \n",
       "1  99AE7B25356510B0E0430A865E3310B0          at4   \n",
       "2  9A096471BA579094E0430A865E339094         at00   \n",
       "3  9B1F49744917E014E0430A865E33E014          at3   \n",
       "4  99B6C7F3285BB044E0430A865E33B044          at0   \n",
       "\n",
       "                AccidentType_de                        AccidentType_fr  \\\n",
       "0  Schleuder- oder Selbstunfall          dérapage ou perte de maîtrise   \n",
       "1                Einbiegeunfall  accident en s'engageant sur une route   \n",
       "2                        Andere                                 autres   \n",
       "3                 Abbiegeunfall         accident en quittant une route   \n",
       "4  Schleuder- oder Selbstunfall          dérapage ou perte de maîtrise   \n",
       "\n",
       "                                AccidentType_it  \\\n",
       "0  Incidente di sbandamento o per colpa propria   \n",
       "1       Incidente nell’immettersi in una strada   \n",
       "2                                         Altri   \n",
       "3                      Incidente nello svoltare   \n",
       "4  Incidente di sbandamento o per colpa propria   \n",
       "\n",
       "                           AccidentType_en AccidentSeverityCategory  \\\n",
       "0  Accident with skidding or self-accident                      as3   \n",
       "1     Accident when turning-into main road                      as3   \n",
       "2                                    Other                      as2   \n",
       "3      Accident when turning left or right                      as3   \n",
       "4  Accident with skidding or self-accident                      as2   \n",
       "\n",
       "   AccidentSeverityCategory_de   AccidentSeverityCategory_fr  \\\n",
       "0  Unfall mit Leichtverletzten  accident avec blessés légers   \n",
       "1  Unfall mit Leichtverletzten  accident avec blessés légers   \n",
       "2  Unfall mit Schwerverletzten  accident avec blessés graves   \n",
       "3  Unfall mit Leichtverletzten  accident avec blessés légers   \n",
       "4  Unfall mit Schwerverletzten  accident avec blessés graves   \n",
       "\n",
       "    AccidentSeverityCategory_it  ... AccidentMonth_fr  AccidentMonth_it  \\\n",
       "0  Incidente con feriti leggeri  ...          janvier           Gennaio   \n",
       "1  Incidente con feriti leggeri  ...          janvier           Gennaio   \n",
       "2    Incidente con feriti gravi  ...          janvier           Gennaio   \n",
       "3  Incidente con feriti leggeri  ...          janvier           Gennaio   \n",
       "4    Incidente con feriti gravi  ...          janvier           Gennaio   \n",
       "\n",
       "   AccidentMonth_en  AccidentWeekDay AccidentWeekDay_de AccidentWeekDay_fr  \\\n",
       "0           January            aw406            Samstag             samedi   \n",
       "1           January            aw406            Samstag             samedi   \n",
       "2           January            aw406            Samstag             samedi   \n",
       "3           January            aw406            Samstag             samedi   \n",
       "4           January            aw406            Samstag             samedi   \n",
       "\n",
       "  AccidentWeekDay_it AccidentWeekDay_en AccidentHour  AccidentHour_text  \n",
       "0             Sabato           Saturday          1.0            01h-02h  \n",
       "1             Sabato           Saturday          1.0            01h-02h  \n",
       "2             Sabato           Saturday          2.0            02h-03h  \n",
       "3             Sabato           Saturday          2.0            02h-03h  \n",
       "4             Sabato           Saturday          2.0            02h-03h  \n",
       "\n",
       "[5 rows x 36 columns]"
      ]
     },
     "execution_count": 4,
     "metadata": {},
     "output_type": "execute_result"
    }
   ],
   "source": [
    "#check the five first rows of the dataset\n",
    "df.head()"
   ]
  },
  {
   "cell_type": "code",
   "execution_count": 5,
   "metadata": {
    "id": "CwSOYWYpBDUp"
   },
   "outputs": [],
   "source": [
    "#generate a new dataset that solely containts the columns in English\n",
    "df = df[['AccidentUID','AccidentType','AccidentType_en','AccidentSeverityCategory','AccidentSeverityCategory_en',\n",
    "         'AccidentInvolvingPedestrian','AccidentInvolvingBicycle','AccidentInvolvingMotorcycle','RoadType',\n",
    "         'RoadType_en','CantonCode','MunicipalityCode','AccidentYear','AccidentMonth','AccidentMonth_en',\n",
    "         'AccidentWeekDay','AccidentWeekDay_en','AccidentHour']]"
   ]
  },
  {
   "cell_type": "code",
   "execution_count": 6,
   "metadata": {
    "colab": {
     "base_uri": "https://localhost:8080/",
     "height": 343
    },
    "id": "XbM73tLhBDUq",
    "outputId": "fbf3175a-6a43-402f-f259-45f447802d45"
   },
   "outputs": [
    {
     "data": {
      "text/html": [
       "<div>\n",
       "<style scoped>\n",
       "    .dataframe tbody tr th:only-of-type {\n",
       "        vertical-align: middle;\n",
       "    }\n",
       "\n",
       "    .dataframe tbody tr th {\n",
       "        vertical-align: top;\n",
       "    }\n",
       "\n",
       "    .dataframe thead th {\n",
       "        text-align: right;\n",
       "    }\n",
       "</style>\n",
       "<table border=\"1\" class=\"dataframe\">\n",
       "  <thead>\n",
       "    <tr style=\"text-align: right;\">\n",
       "      <th></th>\n",
       "      <th>AccidentUID</th>\n",
       "      <th>AccidentType</th>\n",
       "      <th>AccidentType_en</th>\n",
       "      <th>AccidentSeverityCategory</th>\n",
       "      <th>AccidentSeverityCategory_en</th>\n",
       "      <th>AccidentInvolvingPedestrian</th>\n",
       "      <th>AccidentInvolvingBicycle</th>\n",
       "      <th>AccidentInvolvingMotorcycle</th>\n",
       "      <th>RoadType</th>\n",
       "      <th>RoadType_en</th>\n",
       "      <th>CantonCode</th>\n",
       "      <th>MunicipalityCode</th>\n",
       "      <th>AccidentYear</th>\n",
       "      <th>AccidentMonth</th>\n",
       "      <th>AccidentMonth_en</th>\n",
       "      <th>AccidentWeekDay</th>\n",
       "      <th>AccidentWeekDay_en</th>\n",
       "      <th>AccidentHour</th>\n",
       "    </tr>\n",
       "  </thead>\n",
       "  <tbody>\n",
       "    <tr>\n",
       "      <th>0</th>\n",
       "      <td>9FD6441F802C20A6E0430A865E3320A6</td>\n",
       "      <td>at0</td>\n",
       "      <td>Accident with skidding or self-accident</td>\n",
       "      <td>as3</td>\n",
       "      <td>Accident with light injuries</td>\n",
       "      <td>False</td>\n",
       "      <td>True</td>\n",
       "      <td>False</td>\n",
       "      <td>rt433</td>\n",
       "      <td>Minor road</td>\n",
       "      <td>ZH</td>\n",
       "      <td>0261</td>\n",
       "      <td>2011</td>\n",
       "      <td>1</td>\n",
       "      <td>January</td>\n",
       "      <td>aw406</td>\n",
       "      <td>Saturday</td>\n",
       "      <td>1.0</td>\n",
       "    </tr>\n",
       "    <tr>\n",
       "      <th>1</th>\n",
       "      <td>99AE7B25356510B0E0430A865E3310B0</td>\n",
       "      <td>at4</td>\n",
       "      <td>Accident when turning-into main road</td>\n",
       "      <td>as3</td>\n",
       "      <td>Accident with light injuries</td>\n",
       "      <td>False</td>\n",
       "      <td>False</td>\n",
       "      <td>True</td>\n",
       "      <td>rt433</td>\n",
       "      <td>Minor road</td>\n",
       "      <td>GE</td>\n",
       "      <td>6621</td>\n",
       "      <td>2011</td>\n",
       "      <td>1</td>\n",
       "      <td>January</td>\n",
       "      <td>aw406</td>\n",
       "      <td>Saturday</td>\n",
       "      <td>1.0</td>\n",
       "    </tr>\n",
       "    <tr>\n",
       "      <th>2</th>\n",
       "      <td>9A096471BA579094E0430A865E339094</td>\n",
       "      <td>at00</td>\n",
       "      <td>Other</td>\n",
       "      <td>as2</td>\n",
       "      <td>Accident with severe injuries</td>\n",
       "      <td>False</td>\n",
       "      <td>True</td>\n",
       "      <td>False</td>\n",
       "      <td>rt433</td>\n",
       "      <td>Minor road</td>\n",
       "      <td>BE</td>\n",
       "      <td>0371</td>\n",
       "      <td>2011</td>\n",
       "      <td>1</td>\n",
       "      <td>January</td>\n",
       "      <td>aw406</td>\n",
       "      <td>Saturday</td>\n",
       "      <td>2.0</td>\n",
       "    </tr>\n",
       "    <tr>\n",
       "      <th>3</th>\n",
       "      <td>9B1F49744917E014E0430A865E33E014</td>\n",
       "      <td>at3</td>\n",
       "      <td>Accident when turning left or right</td>\n",
       "      <td>as3</td>\n",
       "      <td>Accident with light injuries</td>\n",
       "      <td>False</td>\n",
       "      <td>False</td>\n",
       "      <td>False</td>\n",
       "      <td>rt433</td>\n",
       "      <td>Minor road</td>\n",
       "      <td>BS</td>\n",
       "      <td>2701</td>\n",
       "      <td>2011</td>\n",
       "      <td>1</td>\n",
       "      <td>January</td>\n",
       "      <td>aw406</td>\n",
       "      <td>Saturday</td>\n",
       "      <td>2.0</td>\n",
       "    </tr>\n",
       "    <tr>\n",
       "      <th>4</th>\n",
       "      <td>99B6C7F3285BB044E0430A865E33B044</td>\n",
       "      <td>at0</td>\n",
       "      <td>Accident with skidding or self-accident</td>\n",
       "      <td>as2</td>\n",
       "      <td>Accident with severe injuries</td>\n",
       "      <td>False</td>\n",
       "      <td>False</td>\n",
       "      <td>False</td>\n",
       "      <td>rt433</td>\n",
       "      <td>Minor road</td>\n",
       "      <td>TI</td>\n",
       "      <td>5203</td>\n",
       "      <td>2011</td>\n",
       "      <td>1</td>\n",
       "      <td>January</td>\n",
       "      <td>aw406</td>\n",
       "      <td>Saturday</td>\n",
       "      <td>2.0</td>\n",
       "    </tr>\n",
       "  </tbody>\n",
       "</table>\n",
       "</div>"
      ],
      "text/plain": [
       "                        AccidentUID AccidentType  \\\n",
       "0  9FD6441F802C20A6E0430A865E3320A6          at0   \n",
       "1  99AE7B25356510B0E0430A865E3310B0          at4   \n",
       "2  9A096471BA579094E0430A865E339094         at00   \n",
       "3  9B1F49744917E014E0430A865E33E014          at3   \n",
       "4  99B6C7F3285BB044E0430A865E33B044          at0   \n",
       "\n",
       "                           AccidentType_en AccidentSeverityCategory  \\\n",
       "0  Accident with skidding or self-accident                      as3   \n",
       "1     Accident when turning-into main road                      as3   \n",
       "2                                    Other                      as2   \n",
       "3      Accident when turning left or right                      as3   \n",
       "4  Accident with skidding or self-accident                      as2   \n",
       "\n",
       "     AccidentSeverityCategory_en  AccidentInvolvingPedestrian  \\\n",
       "0   Accident with light injuries                        False   \n",
       "1   Accident with light injuries                        False   \n",
       "2  Accident with severe injuries                        False   \n",
       "3   Accident with light injuries                        False   \n",
       "4  Accident with severe injuries                        False   \n",
       "\n",
       "   AccidentInvolvingBicycle  AccidentInvolvingMotorcycle RoadType RoadType_en  \\\n",
       "0                      True                        False    rt433  Minor road   \n",
       "1                     False                         True    rt433  Minor road   \n",
       "2                      True                        False    rt433  Minor road   \n",
       "3                     False                        False    rt433  Minor road   \n",
       "4                     False                        False    rt433  Minor road   \n",
       "\n",
       "  CantonCode MunicipalityCode  AccidentYear  AccidentMonth AccidentMonth_en  \\\n",
       "0         ZH             0261          2011              1          January   \n",
       "1         GE             6621          2011              1          January   \n",
       "2         BE             0371          2011              1          January   \n",
       "3         BS             2701          2011              1          January   \n",
       "4         TI             5203          2011              1          January   \n",
       "\n",
       "  AccidentWeekDay AccidentWeekDay_en  AccidentHour  \n",
       "0           aw406           Saturday           1.0  \n",
       "1           aw406           Saturday           1.0  \n",
       "2           aw406           Saturday           2.0  \n",
       "3           aw406           Saturday           2.0  \n",
       "4           aw406           Saturday           2.0  "
      ]
     },
     "execution_count": 6,
     "metadata": {},
     "output_type": "execute_result"
    }
   ],
   "source": [
    "#view first five records of the dataset\n",
    "df.head()"
   ]
  },
  {
   "cell_type": "markdown",
   "metadata": {
    "id": "Fwi-e7wMBDUr"
   },
   "source": [
    "## 3) Deleting the missing values"
   ]
  },
  {
   "cell_type": "code",
   "execution_count": 7,
   "metadata": {
    "colab": {
     "base_uri": "https://localhost:8080/"
    },
    "id": "kcEgdpe2BDUs",
    "outputId": "d9e52226-5dde-4893-af3a-1cc828ccfd11"
   },
   "outputs": [
    {
     "name": "stdout",
     "output_type": "stream",
     "text": [
      "Total Number of records = 178217\n"
     ]
    },
    {
     "data": {
      "text/plain": [
       "AccidentUID                    0\n",
       "AccidentType                   0\n",
       "AccidentType_en                0\n",
       "AccidentSeverityCategory       0\n",
       "AccidentSeverityCategory_en    0\n",
       "AccidentInvolvingPedestrian    0\n",
       "AccidentInvolvingBicycle       0\n",
       "AccidentInvolvingMotorcycle    0\n",
       "RoadType                       0\n",
       "RoadType_en                    0\n",
       "CantonCode                     0\n",
       "MunicipalityCode               0\n",
       "AccidentYear                   0\n",
       "AccidentMonth                  0\n",
       "AccidentMonth_en               0\n",
       "AccidentWeekDay                0\n",
       "AccidentWeekDay_en             0\n",
       "AccidentHour                   5\n",
       "dtype: int64"
      ]
     },
     "execution_count": 7,
     "metadata": {},
     "output_type": "execute_result"
    }
   ],
   "source": [
    "#missing values\n",
    "print(f'Total Number of records = {len(df)}')\n",
    "df.isnull().sum()"
   ]
  },
  {
   "cell_type": "code",
   "execution_count": 8,
   "metadata": {
    "colab": {
     "base_uri": "https://localhost:8080/"
    },
    "id": "BfOKhulYBDUt",
    "outputId": "8834efb8-d7e9-445f-c8d6-9a9da7ae3641"
   },
   "outputs": [
    {
     "name": "stdout",
     "output_type": "stream",
     "text": [
      "Total Number of records = 178212\n"
     ]
    },
    {
     "data": {
      "text/plain": [
       "AccidentUID                    0\n",
       "AccidentType                   0\n",
       "AccidentType_en                0\n",
       "AccidentSeverityCategory       0\n",
       "AccidentSeverityCategory_en    0\n",
       "AccidentInvolvingPedestrian    0\n",
       "AccidentInvolvingBicycle       0\n",
       "AccidentInvolvingMotorcycle    0\n",
       "RoadType                       0\n",
       "RoadType_en                    0\n",
       "CantonCode                     0\n",
       "MunicipalityCode               0\n",
       "AccidentYear                   0\n",
       "AccidentMonth                  0\n",
       "AccidentMonth_en               0\n",
       "AccidentWeekDay                0\n",
       "AccidentWeekDay_en             0\n",
       "AccidentHour                   0\n",
       "dtype: int64"
      ]
     },
     "execution_count": 8,
     "metadata": {},
     "output_type": "execute_result"
    }
   ],
   "source": [
    "#remove missing values from dataset\n",
    "df_cleaned = df.dropna(inplace=False)\n",
    "\n",
    "print(f'Total Number of records = {len(df_cleaned)}')\n",
    "df_cleaned.isnull().sum()"
   ]
  },
  {
   "cell_type": "markdown",
   "metadata": {
    "id": "VPaKgwgGBDUt"
   },
   "source": [
    "## Visualization and Exploratory Data Analysis"
   ]
  },
  {
   "cell_type": "code",
   "execution_count": 9,
   "metadata": {
    "colab": {
     "base_uri": "https://localhost:8080/",
     "height": 704
    },
    "id": "2FBJXX2rBDUu",
    "outputId": "ecc8d83a-ab0e-44b7-a5a9-c9debbefbb3c"
   },
   "outputs": [
    {
     "data": {
      "text/plain": [
       "<AxesSubplot:>"
      ]
     },
     "execution_count": 9,
     "metadata": {},
     "output_type": "execute_result"
    },
    {
     "data": {
      "image/png": "[encoded data removed]",
      "text/plain": [
       "<Figure size 864x864 with 2 Axes>"
      ]
     },
     "metadata": {
      "needs_background": "light"
     },
     "output_type": "display_data"
    }
   ],
   "source": [
    "#correlation matrix for numeric features\n",
    "vis_df = df_cleaned.copy()\n",
    "vis_df.AccidentType_en =vis_df.AccidentType_en.astype('category')\n",
    "vis_df['AccidentTypeCode']=vis_df.AccidentType_en.cat.codes\n",
    "\n",
    "cols = [ 'AccidentTypeCode', 'AccidentInvolvingPedestrian', 'AccidentInvolvingBicycle', 'AccidentInvolvingMotorcycle',\n",
    "         'AccidentYear', 'AccidentMonth']\n",
    "\n",
    "size = len(cols)\n",
    "figure, axes = plt.subplots(figsize=(size*2,size*2))\n",
    "\n",
    "# pearson corellation\n",
    "p_corr = vis_df[cols].corr(method='pearson')\n",
    "sns.set_theme(style=\"white\")\n",
    "cmap = sns.diverging_palette(230, 20, as_cmap=True)\n",
    "\n",
    "sns.heatmap(p_corr, cmap=cmap, vmax=.3, center=0, square=True, linewidths=.5, ax=axes)"
   ]
  },
  {
   "cell_type": "code",
   "execution_count": 10,
   "metadata": {
    "id": "h_GZvN9UBDUu"
   },
   "outputs": [],
   "source": [
    "#accident by canton\n",
    "vis_df = df_cleaned[['AccidentType_en','AccidentSeverityCategory_en','CantonCode','MunicipalityCode','AccidentYear','AccidentMonth_en','AccidentHour','AccidentUID']].copy()"
   ]
  },
  {
   "cell_type": "code",
   "execution_count": 11,
   "metadata": {
    "colab": {
     "base_uri": "https://localhost:8080/",
     "height": 443
    },
    "id": "arRv-sONBDUv",
    "outputId": "c73c1c42-65e8-43e2-fd80-1055a068f027",
    "scrolled": true
   },
   "outputs": [
    {
     "data": {
      "image/png": "[encoded data removed]",
      "text/plain": [
       "<Figure size 720x360 with 1 Axes>"
      ]
     },
     "metadata": {},
     "output_type": "display_data"
    }
   ],
   "source": [
    "temp_df = vis_df.groupby(['CantonCode']).size().reset_index(name='Accident Count').sort_values(by=['Accident Count'], ascending=False)\n",
    "x = temp_df['CantonCode'].tolist()\n",
    "y = temp_df['Accident Count'].tolist()\n",
    "fig = plt.figure(figsize = (10, 5))\n",
    "ax = fig.add_axes([0,0,1,1])\n",
    "ax.bar(x,y,width = 0.6,color=\"blueviolet\")\n",
    "\n",
    "#remove the right and top line of the frame\n",
    "ax.spines['top'].set_visible(False)\n",
    "ax.spines['right'].set_visible(False)\n",
    "\n",
    "plt.ylabel(\"Number of Traffic Accidents\")\n",
    "plt.xlabel(\"Canton\")\n",
    "plt.title(\"Accidents by Canton\")\n",
    "\n",
    "#plt.hist(x,color = 'g', lw=0)\n",
    "plt.show()\n",
    "#it seems that the most accidents happen in the canton of Zurich"
   ]
  },
  {
   "cell_type": "markdown",
   "metadata": {
    "id": "3_UwG43IEO6k"
   },
   "source": [
    "#### Municipality codes were replaced with municipality names.\n",
    "#### Codes were retrieved from: https://www.google.com/url?sa=t&rct=j&q=&esrc=s&source=web&cd=&cad=rja&uact=8&ved=2ahUKEwjWrd65ivXyAhX2gf0HHXIdAI0QFnoECAMQAQ&url=https%3A%2F%2Fwww.bfs.admin.ch%2Fbfsstatic%2Fdam%2Fassets%2F342939%2Fmaster&usg=AOvVaw3wO4Aehd533Hkk-PKWB2ju"
   ]
  },
  {
   "cell_type": "code",
   "execution_count": 12,
   "metadata": {
    "colab": {
     "base_uri": "https://localhost:8080/",
     "height": 553
    },
    "id": "GwHtI5JWBDUv",
    "outputId": "6eb1f550-b892-4f52-f88b-7ab4941b29bb"
   },
   "outputs": [
    {
     "name": "stderr",
     "output_type": "stream",
     "text": [
      "C:\\Users\\maria\\anaconda3\\lib\\site-packages\\pandas\\core\\series.py:4509: SettingWithCopyWarning: \n",
      "A value is trying to be set on a copy of a slice from a DataFrame\n",
      "\n",
      "See the caveats in the documentation: https://pandas.pydata.org/pandas-docs/stable/user_guide/indexing.html#returning-a-view-versus-a-copy\n",
      "  return super().replace(\n"
     ]
    },
    {
     "data": {
      "image/png": "[encoded data removed]",
      "text/plain": [
       "<Figure size 720x360 with 1 Axes>"
      ]
     },
     "metadata": {},
     "output_type": "display_data"
    }
   ],
   "source": [
    "#accidents by muncipalities in the canton of Bern\n",
    "temp_df = vis_df[vis_df['CantonCode']=='BE']\n",
    "\n",
    "#replace municipality codes with municipality names:\n",
    "temp_df[\"MunicipalityCode\"].replace({\"0306\":\"Lyss\",\"0329\":\"Langenthal\",\"0351\":\"Bern\",\"0355\":\"Koeniz\",\n",
    "                                     \"0356\":\"Muri bei Bern\",\"0362\":\"Ittigen\",\"0363\":\"Ostermundigen\",\"0371\":\"Biel\",\n",
    "                                     \"0404\":\"Burgdorf\",\"0544\":\"Moosseedorf\",\"0581\":\"Interlaken\",\n",
    "                                     \"0616\":\"Muensingen\",\"0627\":\"Worb\",\"0743\":\"Nidau\",\"0768\":\"Spiez\",\n",
    "                                     \"0861\":\"Belp\",\"0939\":\"Steffisburg\",\"0942\":\"Thun\",\"0981\":\"Niederbipp\",\n",
    "                                     \"0995\":\"Wiedlisbach\"}, inplace=True)\n",
    "\n",
    "temp_df = temp_df.groupby(['MunicipalityCode']).size().reset_index(name='Accident Count').sort_values(by=['Accident Count'], ascending=False)\n",
    "temp_df = temp_df[temp_df['Accident Count']>200]\n",
    "x = temp_df['MunicipalityCode'].tolist()\n",
    "y = temp_df['Accident Count'].tolist()\n",
    "fig = plt.figure(figsize = (10, 5))\n",
    "ax = fig.add_axes([0,0,1,1])\n",
    "ax.bar(x,y,width = 0.6,color=\"blueviolet\")\n",
    "\n",
    "#remove the right and top line of the frame\n",
    "ax.spines['top'].set_visible(False)\n",
    "ax.spines['right'].set_visible(False)\n",
    "\n",
    "plt.xticks(rotation=70)\n",
    "\n",
    "plt.ylabel(\"Number of Traffic Accidents\")\n",
    "plt.xlabel(\"Municipality\")\n",
    "plt.title(\"Accidents in the Canton of Bern\")\n",
    "\n",
    "plt.show()"
   ]
  },
  {
   "cell_type": "code",
   "execution_count": 13,
   "metadata": {
    "colab": {
     "base_uri": "https://localhost:8080/",
     "height": 443
    },
    "id": "zdY5lP92BDUw",
    "outputId": "b3afdb64-acc8-41f8-cf5f-a0db13c5e9d6"
   },
   "outputs": [
    {
     "data": {
      "image/png": "[encoded data removed]",
      "text/plain": [
       "<Figure size 720x360 with 1 Axes>"
      ]
     },
     "metadata": {},
     "output_type": "display_data"
    }
   ],
   "source": [
    "#accident by types in the canton of Bern\n",
    "temp_df = vis_df[vis_df['CantonCode']=='BE']\n",
    "temp_df = temp_df.groupby(['AccidentSeverityCategory_en']).size().reset_index(name='Accident Count')\n",
    "x = temp_df['AccidentSeverityCategory_en'].tolist()\n",
    "y = temp_df['Accident Count'].tolist()\n",
    "fig = plt.figure(figsize = (10, 5))\n",
    "ax = fig.add_axes([0,0,1,1])\n",
    "ax.bar(x,y,width = 0.3,color=\"blueviolet\")\n",
    "\n",
    "#remove the right and top line of the frame\n",
    "ax.spines['top'].set_visible(False)\n",
    "ax.spines['right'].set_visible(False)\n",
    "\n",
    "plt.ylabel(\"Number of Traffic Accidents\")\n",
    "plt.xlabel(\"Severity of Accident\")\n",
    "plt.title(\"Accidents in the Canton of Bern by Category\")\n",
    "\n",
    "plt.show()"
   ]
  },
  {
   "cell_type": "code",
   "execution_count": 14,
   "metadata": {
    "colab": {
     "base_uri": "https://localhost:8080/",
     "height": 354
    },
    "id": "Aa0fL9-XBDUx",
    "outputId": "68157764-0100-442e-d0f6-22221fa160de"
   },
   "outputs": [
    {
     "data": {
      "image/png": "[encoded data removed]",
      "text/plain": [
       "<Figure size 720x720 with 1 Axes>"
      ]
     },
     "metadata": {},
     "output_type": "display_data"
    }
   ],
   "source": [
    "#plot the frame\n",
    "plt.rcParams[\"figure.figsize\"] = (10, 10)\n",
    "\n",
    "#plot the data\n",
    "temp_df = vis_df[vis_df['CantonCode']=='BE']\n",
    "c=['red','blue','darkviolet']\n",
    "temp_df.groupby('AccidentSeverityCategory_en').AccidentType_en.value_counts().unstack(0).plot.barh(color=c);\n",
    "\n",
    "#rename the axis and labels\n",
    "plt.ylabel('Accident Type')\n",
    "plt.xlabel('Frequency')\n",
    "plt.title('Number of Accidents in Relation to Type and Severity for Bern')\n",
    "plt.legend([\"Accident with fatalities\",\"Accident with light insuries\",\"Accidents with severe injuries\"])\n",
    "\n",
    "plt.show()"
   ]
  },
  {
   "cell_type": "code",
   "execution_count": 15,
   "metadata": {
    "id": "TFltPsfvBDUz",
    "outputId": "2b4529d5-f274-4c71-c18a-6e7ae5010966"
   },
   "outputs": [
    {
     "ename": "KeyError",
     "evalue": "'Accident Count'",
     "output_type": "error",
     "traceback": [
      "\u001b[1;31m---------------------------------------------------------------------------\u001b[0m",
      "\u001b[1;31mKeyError\u001b[0m                                  Traceback (most recent call last)",
      "\u001b[1;32m~\\anaconda3\\lib\\site-packages\\pandas\\core\\indexes\\base.py\u001b[0m in \u001b[0;36mget_loc\u001b[1;34m(self, key, method, tolerance)\u001b[0m\n\u001b[0;32m   3079\u001b[0m             \u001b[1;32mtry\u001b[0m\u001b[1;33m:\u001b[0m\u001b[1;33m\u001b[0m\u001b[1;33m\u001b[0m\u001b[0m\n\u001b[1;32m-> 3080\u001b[1;33m                 \u001b[1;32mreturn\u001b[0m \u001b[0mself\u001b[0m\u001b[1;33m.\u001b[0m\u001b[0m_engine\u001b[0m\u001b[1;33m.\u001b[0m\u001b[0mget_loc\u001b[0m\u001b[1;33m(\u001b[0m\u001b[0mcasted_key\u001b[0m\u001b[1;33m)\u001b[0m\u001b[1;33m\u001b[0m\u001b[1;33m\u001b[0m\u001b[0m\n\u001b[0m\u001b[0;32m   3081\u001b[0m             \u001b[1;32mexcept\u001b[0m \u001b[0mKeyError\u001b[0m \u001b[1;32mas\u001b[0m \u001b[0merr\u001b[0m\u001b[1;33m:\u001b[0m\u001b[1;33m\u001b[0m\u001b[1;33m\u001b[0m\u001b[0m\n",
      "\u001b[1;32mpandas\\_libs\\index.pyx\u001b[0m in \u001b[0;36mpandas._libs.index.IndexEngine.get_loc\u001b[1;34m()\u001b[0m\n",
      "\u001b[1;32mpandas\\_libs\\index.pyx\u001b[0m in \u001b[0;36mpandas._libs.index.IndexEngine.get_loc\u001b[1;34m()\u001b[0m\n",
      "\u001b[1;32mpandas\\_libs\\hashtable_class_helper.pxi\u001b[0m in \u001b[0;36mpandas._libs.hashtable.PyObjectHashTable.get_item\u001b[1;34m()\u001b[0m\n",
      "\u001b[1;32mpandas\\_libs\\hashtable_class_helper.pxi\u001b[0m in \u001b[0;36mpandas._libs.hashtable.PyObjectHashTable.get_item\u001b[1;34m()\u001b[0m\n",
      "\u001b[1;31mKeyError\u001b[0m: 'Accident Count'",
      "\nThe above exception was the direct cause of the following exception:\n",
      "\u001b[1;31mKeyError\u001b[0m                                  Traceback (most recent call last)",
      "\u001b[1;32m<ipython-input-15-89395e1b72d9>\u001b[0m in \u001b[0;36m<module>\u001b[1;34m\u001b[0m\n\u001b[0;32m      1\u001b[0m \u001b[1;31m#visualize number of accidents per type in Bern\u001b[0m\u001b[1;33m\u001b[0m\u001b[1;33m\u001b[0m\u001b[1;33m\u001b[0m\u001b[0m\n\u001b[0;32m      2\u001b[0m \u001b[0mvis_df\u001b[0m\u001b[1;33m[\u001b[0m\u001b[0mvis_df\u001b[0m\u001b[1;33m[\u001b[0m\u001b[1;34m'CantonCode'\u001b[0m\u001b[1;33m]\u001b[0m\u001b[1;33m==\u001b[0m\u001b[1;34m'BE'\u001b[0m\u001b[1;33m]\u001b[0m\u001b[1;33m.\u001b[0m\u001b[0mgroupby\u001b[0m\u001b[1;33m(\u001b[0m\u001b[1;34m'AccidentType_en'\u001b[0m\u001b[1;33m)\u001b[0m\u001b[1;33m.\u001b[0m\u001b[0msize\u001b[0m\u001b[1;33m(\u001b[0m\u001b[1;33m)\u001b[0m\u001b[1;33m.\u001b[0m\u001b[0mplot\u001b[0m\u001b[1;33m.\u001b[0m\u001b[0mbar\u001b[0m\u001b[1;33m(\u001b[0m\u001b[0mcolor\u001b[0m\u001b[1;33m=\u001b[0m\u001b[1;34m\"blueviolet\"\u001b[0m\u001b[1;33m)\u001b[0m\u001b[1;33m\u001b[0m\u001b[1;33m\u001b[0m\u001b[0m\n\u001b[1;32m----> 3\u001b[1;33m \u001b[0mtemp_df\u001b[0m \u001b[1;33m=\u001b[0m \u001b[0mtemp_df\u001b[0m\u001b[1;33m[\u001b[0m\u001b[0mtemp_df\u001b[0m\u001b[1;33m[\u001b[0m\u001b[1;34m'Accident Count'\u001b[0m\u001b[1;33m]\u001b[0m\u001b[1;33m>\u001b[0m\u001b[1;36m200\u001b[0m\u001b[1;33m]\u001b[0m\u001b[1;33m\u001b[0m\u001b[1;33m\u001b[0m\u001b[0m\n\u001b[0m\u001b[0;32m      4\u001b[0m \u001b[1;31m#labeling the axis\u001b[0m\u001b[1;33m\u001b[0m\u001b[1;33m\u001b[0m\u001b[1;33m\u001b[0m\u001b[0m\n\u001b[0;32m      5\u001b[0m \u001b[0mplt\u001b[0m\u001b[1;33m.\u001b[0m\u001b[0mylabel\u001b[0m\u001b[1;33m(\u001b[0m\u001b[1;34m'Frequency'\u001b[0m\u001b[1;33m)\u001b[0m\u001b[1;33m\u001b[0m\u001b[1;33m\u001b[0m\u001b[0m\n",
      "\u001b[1;32m~\\anaconda3\\lib\\site-packages\\pandas\\core\\frame.py\u001b[0m in \u001b[0;36m__getitem__\u001b[1;34m(self, key)\u001b[0m\n\u001b[0;32m   3022\u001b[0m             \u001b[1;32mif\u001b[0m \u001b[0mself\u001b[0m\u001b[1;33m.\u001b[0m\u001b[0mcolumns\u001b[0m\u001b[1;33m.\u001b[0m\u001b[0mnlevels\u001b[0m \u001b[1;33m>\u001b[0m \u001b[1;36m1\u001b[0m\u001b[1;33m:\u001b[0m\u001b[1;33m\u001b[0m\u001b[1;33m\u001b[0m\u001b[0m\n\u001b[0;32m   3023\u001b[0m                 \u001b[1;32mreturn\u001b[0m \u001b[0mself\u001b[0m\u001b[1;33m.\u001b[0m\u001b[0m_getitem_multilevel\u001b[0m\u001b[1;33m(\u001b[0m\u001b[0mkey\u001b[0m\u001b[1;33m)\u001b[0m\u001b[1;33m\u001b[0m\u001b[1;33m\u001b[0m\u001b[0m\n\u001b[1;32m-> 3024\u001b[1;33m             \u001b[0mindexer\u001b[0m \u001b[1;33m=\u001b[0m \u001b[0mself\u001b[0m\u001b[1;33m.\u001b[0m\u001b[0mcolumns\u001b[0m\u001b[1;33m.\u001b[0m\u001b[0mget_loc\u001b[0m\u001b[1;33m(\u001b[0m\u001b[0mkey\u001b[0m\u001b[1;33m)\u001b[0m\u001b[1;33m\u001b[0m\u001b[1;33m\u001b[0m\u001b[0m\n\u001b[0m\u001b[0;32m   3025\u001b[0m             \u001b[1;32mif\u001b[0m \u001b[0mis_integer\u001b[0m\u001b[1;33m(\u001b[0m\u001b[0mindexer\u001b[0m\u001b[1;33m)\u001b[0m\u001b[1;33m:\u001b[0m\u001b[1;33m\u001b[0m\u001b[1;33m\u001b[0m\u001b[0m\n\u001b[0;32m   3026\u001b[0m                 \u001b[0mindexer\u001b[0m \u001b[1;33m=\u001b[0m \u001b[1;33m[\u001b[0m\u001b[0mindexer\u001b[0m\u001b[1;33m]\u001b[0m\u001b[1;33m\u001b[0m\u001b[1;33m\u001b[0m\u001b[0m\n",
      "\u001b[1;32m~\\anaconda3\\lib\\site-packages\\pandas\\core\\indexes\\base.py\u001b[0m in \u001b[0;36mget_loc\u001b[1;34m(self, key, method, tolerance)\u001b[0m\n\u001b[0;32m   3080\u001b[0m                 \u001b[1;32mreturn\u001b[0m \u001b[0mself\u001b[0m\u001b[1;33m.\u001b[0m\u001b[0m_engine\u001b[0m\u001b[1;33m.\u001b[0m\u001b[0mget_loc\u001b[0m\u001b[1;33m(\u001b[0m\u001b[0mcasted_key\u001b[0m\u001b[1;33m)\u001b[0m\u001b[1;33m\u001b[0m\u001b[1;33m\u001b[0m\u001b[0m\n\u001b[0;32m   3081\u001b[0m             \u001b[1;32mexcept\u001b[0m \u001b[0mKeyError\u001b[0m \u001b[1;32mas\u001b[0m \u001b[0merr\u001b[0m\u001b[1;33m:\u001b[0m\u001b[1;33m\u001b[0m\u001b[1;33m\u001b[0m\u001b[0m\n\u001b[1;32m-> 3082\u001b[1;33m                 \u001b[1;32mraise\u001b[0m \u001b[0mKeyError\u001b[0m\u001b[1;33m(\u001b[0m\u001b[0mkey\u001b[0m\u001b[1;33m)\u001b[0m \u001b[1;32mfrom\u001b[0m \u001b[0merr\u001b[0m\u001b[1;33m\u001b[0m\u001b[1;33m\u001b[0m\u001b[0m\n\u001b[0m\u001b[0;32m   3083\u001b[0m \u001b[1;33m\u001b[0m\u001b[0m\n\u001b[0;32m   3084\u001b[0m         \u001b[1;32mif\u001b[0m \u001b[0mtolerance\u001b[0m \u001b[1;32mis\u001b[0m \u001b[1;32mnot\u001b[0m \u001b[1;32mNone\u001b[0m\u001b[1;33m:\u001b[0m\u001b[1;33m\u001b[0m\u001b[1;33m\u001b[0m\u001b[0m\n",
      "\u001b[1;31mKeyError\u001b[0m: 'Accident Count'"
     ]
    },
    {
     "data": {
      "image/png": "[encoded data removed]",
      "text/plain": [
       "<Figure size 720x720 with 1 Axes>"
      ]
     },
     "metadata": {},
     "output_type": "display_data"
    }
   ],
   "source": [
    "#visualize number of accidents per type in Bern\n",
    "vis_df[vis_df['CantonCode']=='BE'].groupby('AccidentType_en').size().plot.bar(color=\"blueviolet\")\n",
    "temp_df = temp_df[temp_df['Accident Count']>200]\n",
    "#labeling the axis\n",
    "plt.ylabel('Frequency')\n",
    "plt.xlabel('Accident Type')\n",
    "plt.title('Number of Accidents per Type in Bern')\n",
    "plt.xticks(rotation=70);"
   ]
  },
  {
   "cell_type": "code",
   "execution_count": 16,
   "metadata": {
    "colab": {
     "base_uri": "https://localhost:8080/",
     "height": 289
    },
    "id": "uHa6Db0pdzLh",
    "outputId": "14af18fb-689b-4642-9454-990efd94b2f3"
   },
   "outputs": [
    {
     "data": {
      "text/plain": [
       "<AxesSubplot:>"
      ]
     },
     "execution_count": 16,
     "metadata": {},
     "output_type": "execute_result"
    },
    {
     "data": {
      "image/png": "[encoded data removed]",
      "text/plain": [
       "<Figure size 720x720 with 1 Axes>"
      ]
     },
     "metadata": {},
     "output_type": "display_data"
    }
   ],
   "source": [
    "df_cleaned[df_cleaned['CantonCode']=='BE'].groupby('AccidentHour').size().reset_index(name=\n",
    "                        'Accident Count').plot.bar(y='Accident Count')\n"
   ]
  },
  {
   "cell_type": "code",
   "execution_count": 17,
   "metadata": {
    "colab": {
     "base_uri": "https://localhost:8080/",
     "height": 266
    },
    "id": "ZVGdQmlPBDUz",
    "outputId": "9f89d6e3-db6f-42db-dd04-934bac857938"
   },
   "outputs": [
    {
     "data": {
      "text/html": [
       "<div>\n",
       "<style scoped>\n",
       "    .dataframe tbody tr th:only-of-type {\n",
       "        vertical-align: middle;\n",
       "    }\n",
       "\n",
       "    .dataframe tbody tr th {\n",
       "        vertical-align: top;\n",
       "    }\n",
       "\n",
       "    .dataframe thead th {\n",
       "        text-align: right;\n",
       "    }\n",
       "</style>\n",
       "<table border=\"1\" class=\"dataframe\">\n",
       "  <thead>\n",
       "    <tr style=\"text-align: right;\">\n",
       "      <th></th>\n",
       "      <th>AccidentWeekDay_en</th>\n",
       "      <th>Accident Count</th>\n",
       "    </tr>\n",
       "  </thead>\n",
       "  <tbody>\n",
       "    <tr>\n",
       "      <th>0</th>\n",
       "      <td>Friday</td>\n",
       "      <td>4226</td>\n",
       "    </tr>\n",
       "    <tr>\n",
       "      <th>6</th>\n",
       "      <td>Wednesday</td>\n",
       "      <td>3916</td>\n",
       "    </tr>\n",
       "    <tr>\n",
       "      <th>4</th>\n",
       "      <td>Thursday</td>\n",
       "      <td>3850</td>\n",
       "    </tr>\n",
       "    <tr>\n",
       "      <th>5</th>\n",
       "      <td>Tuesday</td>\n",
       "      <td>3741</td>\n",
       "    </tr>\n",
       "    <tr>\n",
       "      <th>1</th>\n",
       "      <td>Monday</td>\n",
       "      <td>3675</td>\n",
       "    </tr>\n",
       "    <tr>\n",
       "      <th>2</th>\n",
       "      <td>Saturday</td>\n",
       "      <td>3423</td>\n",
       "    </tr>\n",
       "    <tr>\n",
       "      <th>3</th>\n",
       "      <td>Sunday</td>\n",
       "      <td>2604</td>\n",
       "    </tr>\n",
       "  </tbody>\n",
       "</table>\n",
       "</div>"
      ],
      "text/plain": [
       "  AccidentWeekDay_en  Accident Count\n",
       "0             Friday            4226\n",
       "6          Wednesday            3916\n",
       "4           Thursday            3850\n",
       "5            Tuesday            3741\n",
       "1             Monday            3675\n",
       "2           Saturday            3423\n",
       "3             Sunday            2604"
      ]
     },
     "execution_count": 17,
     "metadata": {},
     "output_type": "execute_result"
    }
   ],
   "source": [
    "df_cleaned[df_cleaned['CantonCode']=='BE'].groupby('AccidentWeekDay_en').size().reset_index(name='Accident Count').sort_values(by=['Accident Count'], ascending=False)"
   ]
  },
  {
   "cell_type": "code",
   "execution_count": 18,
   "metadata": {
    "id": "h3VzSgz5BDU0",
    "outputId": "1932a132-f64e-48d9-fe8a-9f1de9e30a99"
   },
   "outputs": [
    {
     "data": {
      "text/html": [
       "<div>\n",
       "<style scoped>\n",
       "    .dataframe tbody tr th:only-of-type {\n",
       "        vertical-align: middle;\n",
       "    }\n",
       "\n",
       "    .dataframe tbody tr th {\n",
       "        vertical-align: top;\n",
       "    }\n",
       "\n",
       "    .dataframe thead th {\n",
       "        text-align: right;\n",
       "    }\n",
       "</style>\n",
       "<table border=\"1\" class=\"dataframe\">\n",
       "  <thead>\n",
       "    <tr style=\"text-align: right;\">\n",
       "      <th></th>\n",
       "      <th>AccidentYear</th>\n",
       "      <th>AccidentMonth_en</th>\n",
       "      <th>Accident Count</th>\n",
       "    </tr>\n",
       "  </thead>\n",
       "  <tbody>\n",
       "    <tr>\n",
       "      <th>0</th>\n",
       "      <td>2011</td>\n",
       "      <td>April</td>\n",
       "      <td>232</td>\n",
       "    </tr>\n",
       "    <tr>\n",
       "      <th>1</th>\n",
       "      <td>2011</td>\n",
       "      <td>August</td>\n",
       "      <td>303</td>\n",
       "    </tr>\n",
       "    <tr>\n",
       "      <th>2</th>\n",
       "      <td>2011</td>\n",
       "      <td>December</td>\n",
       "      <td>208</td>\n",
       "    </tr>\n",
       "    <tr>\n",
       "      <th>3</th>\n",
       "      <td>2011</td>\n",
       "      <td>February</td>\n",
       "      <td>167</td>\n",
       "    </tr>\n",
       "    <tr>\n",
       "      <th>4</th>\n",
       "      <td>2011</td>\n",
       "      <td>January</td>\n",
       "      <td>160</td>\n",
       "    </tr>\n",
       "    <tr>\n",
       "      <th>...</th>\n",
       "      <td>...</td>\n",
       "      <td>...</td>\n",
       "      <td>...</td>\n",
       "    </tr>\n",
       "    <tr>\n",
       "      <th>115</th>\n",
       "      <td>2020</td>\n",
       "      <td>March</td>\n",
       "      <td>131</td>\n",
       "    </tr>\n",
       "    <tr>\n",
       "      <th>116</th>\n",
       "      <td>2020</td>\n",
       "      <td>May</td>\n",
       "      <td>222</td>\n",
       "    </tr>\n",
       "    <tr>\n",
       "      <th>117</th>\n",
       "      <td>2020</td>\n",
       "      <td>November</td>\n",
       "      <td>186</td>\n",
       "    </tr>\n",
       "    <tr>\n",
       "      <th>118</th>\n",
       "      <td>2020</td>\n",
       "      <td>October</td>\n",
       "      <td>223</td>\n",
       "    </tr>\n",
       "    <tr>\n",
       "      <th>119</th>\n",
       "      <td>2020</td>\n",
       "      <td>September</td>\n",
       "      <td>245</td>\n",
       "    </tr>\n",
       "  </tbody>\n",
       "</table>\n",
       "<p>120 rows × 3 columns</p>\n",
       "</div>"
      ],
      "text/plain": [
       "     AccidentYear AccidentMonth_en  Accident Count\n",
       "0            2011            April             232\n",
       "1            2011           August             303\n",
       "2            2011         December             208\n",
       "3            2011         February             167\n",
       "4            2011          January             160\n",
       "..            ...              ...             ...\n",
       "115          2020            March             131\n",
       "116          2020              May             222\n",
       "117          2020         November             186\n",
       "118          2020          October             223\n",
       "119          2020        September             245\n",
       "\n",
       "[120 rows x 3 columns]"
      ]
     },
     "execution_count": 18,
     "metadata": {},
     "output_type": "execute_result"
    }
   ],
   "source": [
    "df_cleaned[df_cleaned['CantonCode']=='BE'].groupby(['AccidentYear','AccidentMonth_en']).size().reset_index(name='Accident Count')"
   ]
  },
  {
   "cell_type": "code",
   "execution_count": 26,
   "metadata": {},
   "outputs": [],
   "source": [
    "df_cleaned1=df_cleaned[['CantonCode','AccidentYear','AccidentInvolvingPedestrian','AccidentInvolvingBicycle','AccidentInvolvingMotorcycle']]"
   ]
  },
  {
   "cell_type": "code",
   "execution_count": 24,
   "metadata": {},
   "outputs": [
    {
     "data": {
      "text/html": [
       "<div>\n",
       "<style scoped>\n",
       "    .dataframe tbody tr th:only-of-type {\n",
       "        vertical-align: middle;\n",
       "    }\n",
       "\n",
       "    .dataframe tbody tr th {\n",
       "        vertical-align: top;\n",
       "    }\n",
       "\n",
       "    .dataframe thead th {\n",
       "        text-align: right;\n",
       "    }\n",
       "</style>\n",
       "<table border=\"1\" class=\"dataframe\">\n",
       "  <thead>\n",
       "    <tr style=\"text-align: right;\">\n",
       "      <th></th>\n",
       "      <th>AccidentInvolvingPedestrian</th>\n",
       "      <th>AccidentInvolvingBicycle</th>\n",
       "      <th>AccidentInvolvingMotorcycle</th>\n",
       "    </tr>\n",
       "    <tr>\n",
       "      <th>AccidentYear</th>\n",
       "      <th></th>\n",
       "      <th></th>\n",
       "      <th></th>\n",
       "    </tr>\n",
       "  </thead>\n",
       "  <tbody>\n",
       "    <tr>\n",
       "      <th>2011</th>\n",
       "      <td>257</td>\n",
       "      <td>597</td>\n",
       "      <td>504</td>\n",
       "    </tr>\n",
       "    <tr>\n",
       "      <th>2012</th>\n",
       "      <td>261</td>\n",
       "      <td>591</td>\n",
       "      <td>442</td>\n",
       "    </tr>\n",
       "    <tr>\n",
       "      <th>2013</th>\n",
       "      <td>254</td>\n",
       "      <td>590</td>\n",
       "      <td>407</td>\n",
       "    </tr>\n",
       "    <tr>\n",
       "      <th>2014</th>\n",
       "      <td>251</td>\n",
       "      <td>656</td>\n",
       "      <td>422</td>\n",
       "    </tr>\n",
       "    <tr>\n",
       "      <th>2015</th>\n",
       "      <td>242</td>\n",
       "      <td>662</td>\n",
       "      <td>419</td>\n",
       "    </tr>\n",
       "    <tr>\n",
       "      <th>2016</th>\n",
       "      <td>234</td>\n",
       "      <td>644</td>\n",
       "      <td>374</td>\n",
       "    </tr>\n",
       "    <tr>\n",
       "      <th>2017</th>\n",
       "      <td>217</td>\n",
       "      <td>685</td>\n",
       "      <td>437</td>\n",
       "    </tr>\n",
       "    <tr>\n",
       "      <th>2018</th>\n",
       "      <td>228</td>\n",
       "      <td>815</td>\n",
       "      <td>413</td>\n",
       "    </tr>\n",
       "    <tr>\n",
       "      <th>2019</th>\n",
       "      <td>225</td>\n",
       "      <td>709</td>\n",
       "      <td>373</td>\n",
       "    </tr>\n",
       "    <tr>\n",
       "      <th>2020</th>\n",
       "      <td>190</td>\n",
       "      <td>764</td>\n",
       "      <td>393</td>\n",
       "    </tr>\n",
       "  </tbody>\n",
       "</table>\n",
       "</div>"
      ],
      "text/plain": [
       "              AccidentInvolvingPedestrian  AccidentInvolvingBicycle  \\\n",
       "AccidentYear                                                          \n",
       "2011                                  257                       597   \n",
       "2012                                  261                       591   \n",
       "2013                                  254                       590   \n",
       "2014                                  251                       656   \n",
       "2015                                  242                       662   \n",
       "2016                                  234                       644   \n",
       "2017                                  217                       685   \n",
       "2018                                  228                       815   \n",
       "2019                                  225                       709   \n",
       "2020                                  190                       764   \n",
       "\n",
       "              AccidentInvolvingMotorcycle  \n",
       "AccidentYear                               \n",
       "2011                                  504  \n",
       "2012                                  442  \n",
       "2013                                  407  \n",
       "2014                                  422  \n",
       "2015                                  419  \n",
       "2016                                  374  \n",
       "2017                                  437  \n",
       "2018                                  413  \n",
       "2019                                  373  \n",
       "2020                                  393  "
      ]
     },
     "execution_count": 24,
     "metadata": {},
     "output_type": "execute_result"
    }
   ],
   "source": [
    "df_cleaned1[df_cleaned1['CantonCode']=='BE'].groupby(['AccidentYear']).sum()"
   ]
  },
  {
   "cell_type": "code",
   "execution_count": 19,
   "metadata": {
    "id": "PeL4U_mWBDU0",
    "outputId": "578c4ae9-7c7f-4196-937a-8484d7d708f9"
   },
   "outputs": [
    {
     "data": {
      "text/html": [
       "<div>\n",
       "<style scoped>\n",
       "    .dataframe tbody tr th:only-of-type {\n",
       "        vertical-align: middle;\n",
       "    }\n",
       "\n",
       "    .dataframe tbody tr th {\n",
       "        vertical-align: top;\n",
       "    }\n",
       "\n",
       "    .dataframe thead th {\n",
       "        text-align: right;\n",
       "    }\n",
       "</style>\n",
       "<table border=\"1\" class=\"dataframe\">\n",
       "  <thead>\n",
       "    <tr style=\"text-align: right;\">\n",
       "      <th></th>\n",
       "      <th>AccidentInvolvingPedestrian</th>\n",
       "      <th>AccidentInvolvingBicycle</th>\n",
       "      <th>AccidentInvolvingMotorcycle</th>\n",
       "      <th>AccidentMonth</th>\n",
       "      <th>AccidentHour</th>\n",
       "    </tr>\n",
       "    <tr>\n",
       "      <th>AccidentYear</th>\n",
       "      <th></th>\n",
       "      <th></th>\n",
       "      <th></th>\n",
       "      <th></th>\n",
       "      <th></th>\n",
       "    </tr>\n",
       "  </thead>\n",
       "  <tbody>\n",
       "    <tr>\n",
       "      <th>2011</th>\n",
       "      <td>257</td>\n",
       "      <td>597</td>\n",
       "      <td>504</td>\n",
       "      <td>17825</td>\n",
       "      <td>35000.0</td>\n",
       "    </tr>\n",
       "    <tr>\n",
       "      <th>2012</th>\n",
       "      <td>261</td>\n",
       "      <td>591</td>\n",
       "      <td>442</td>\n",
       "      <td>17438</td>\n",
       "      <td>33870.0</td>\n",
       "    </tr>\n",
       "    <tr>\n",
       "      <th>2013</th>\n",
       "      <td>254</td>\n",
       "      <td>590</td>\n",
       "      <td>407</td>\n",
       "      <td>16953</td>\n",
       "      <td>31959.0</td>\n",
       "    </tr>\n",
       "    <tr>\n",
       "      <th>2014</th>\n",
       "      <td>251</td>\n",
       "      <td>656</td>\n",
       "      <td>422</td>\n",
       "      <td>17053</td>\n",
       "      <td>33058.0</td>\n",
       "    </tr>\n",
       "    <tr>\n",
       "      <th>2015</th>\n",
       "      <td>242</td>\n",
       "      <td>662</td>\n",
       "      <td>419</td>\n",
       "      <td>17285</td>\n",
       "      <td>33712.0</td>\n",
       "    </tr>\n",
       "    <tr>\n",
       "      <th>2016</th>\n",
       "      <td>234</td>\n",
       "      <td>644</td>\n",
       "      <td>374</td>\n",
       "      <td>16796</td>\n",
       "      <td>32142.0</td>\n",
       "    </tr>\n",
       "    <tr>\n",
       "      <th>2017</th>\n",
       "      <td>217</td>\n",
       "      <td>685</td>\n",
       "      <td>437</td>\n",
       "      <td>17725</td>\n",
       "      <td>34746.0</td>\n",
       "    </tr>\n",
       "    <tr>\n",
       "      <th>2018</th>\n",
       "      <td>228</td>\n",
       "      <td>815</td>\n",
       "      <td>413</td>\n",
       "      <td>18303</td>\n",
       "      <td>36262.0</td>\n",
       "    </tr>\n",
       "    <tr>\n",
       "      <th>2019</th>\n",
       "      <td>225</td>\n",
       "      <td>709</td>\n",
       "      <td>373</td>\n",
       "      <td>16906</td>\n",
       "      <td>33341.0</td>\n",
       "    </tr>\n",
       "    <tr>\n",
       "      <th>2020</th>\n",
       "      <td>190</td>\n",
       "      <td>764</td>\n",
       "      <td>393</td>\n",
       "      <td>16029</td>\n",
       "      <td>31488.0</td>\n",
       "    </tr>\n",
       "  </tbody>\n",
       "</table>\n",
       "</div>"
      ],
      "text/plain": [
       "              AccidentInvolvingPedestrian  AccidentInvolvingBicycle  \\\n",
       "AccidentYear                                                          \n",
       "2011                                  257                       597   \n",
       "2012                                  261                       591   \n",
       "2013                                  254                       590   \n",
       "2014                                  251                       656   \n",
       "2015                                  242                       662   \n",
       "2016                                  234                       644   \n",
       "2017                                  217                       685   \n",
       "2018                                  228                       815   \n",
       "2019                                  225                       709   \n",
       "2020                                  190                       764   \n",
       "\n",
       "              AccidentInvolvingMotorcycle  AccidentMonth  AccidentHour  \n",
       "AccidentYear                                                            \n",
       "2011                                  504          17825       35000.0  \n",
       "2012                                  442          17438       33870.0  \n",
       "2013                                  407          16953       31959.0  \n",
       "2014                                  422          17053       33058.0  \n",
       "2015                                  419          17285       33712.0  \n",
       "2016                                  374          16796       32142.0  \n",
       "2017                                  437          17725       34746.0  \n",
       "2018                                  413          18303       36262.0  \n",
       "2019                                  373          16906       33341.0  \n",
       "2020                                  393          16029       31488.0  "
      ]
     },
     "execution_count": 19,
     "metadata": {},
     "output_type": "execute_result"
    }
   ],
   "source": [
    "df_cleaned[df_cleaned['CantonCode']=='BE'].groupby(['AccidentYear']).sum()"
   ]
  },
  {
   "cell_type": "markdown",
   "metadata": {
    "id": "BdoGMuK4EO6m"
   },
   "source": [
    "## 4) Introducing and Analyzing the Hypothesis\n",
    "\n",
    "### H1: Accidents in Zurich are in general more severe than accidents in Bern.\n",
    "Test the hypothesis using scatterplots and histograms.\n",
    "Two sample test."
   ]
  },
  {
   "cell_type": "code",
   "execution_count": null,
   "metadata": {
    "id": "_VVlXrlzEO6m",
    "outputId": "b503a779-ed6e-46dc-a4db-5d191041d218"
   },
   "outputs": [],
   "source": [
    "#H1 Testing\n",
    "#Accidents in ZH by severity\n",
    "df_cleaned[df_cleaned['CantonCode']=='ZH'].groupby('AccidentSeverityCategory_en').size().reset_index(name='Accident Count')"
   ]
  },
  {
   "cell_type": "code",
   "execution_count": null,
   "metadata": {
    "id": "1f6MFN92EO6n",
    "outputId": "70eb6e1e-3e59-403a-c281-0df58c378a25"
   },
   "outputs": [],
   "source": [
    "#accidents in BE by severity\n",
    "df_cleaned[df_cleaned['CantonCode']=='BE'].groupby('AccidentSeverityCategory_en').size().reset_index(name='Accident Count')"
   ]
  },
  {
   "cell_type": "code",
   "execution_count": null,
   "metadata": {
    "id": "Qf2zr3ioEO6n",
    "outputId": "ccdc7287-0ada-45b3-fbcb-1c9b741a7a28",
    "scrolled": true
   },
   "outputs": [],
   "source": [
    "#df_cleaned[(df_cleaned['CantonCode'] == 'BE') & (df_cleaned['CantonCode'] == 'ZH')]\n",
    "canton_list = ['BE','ZH']\n",
    "df_cantons = df_cleaned[df_cleaned.CantonCode.isin(canton_list)]\n",
    "\n",
    "df_cantons.groupby('AccidentSeverityCategory_en').CantonCode.value_counts().unstack(0).plot.barh(color=c);\n",
    "\n",
    "#rename the axis and labels\n",
    "plt.ylabel('Canton')\n",
    "plt.xlabel('Frequency')\n",
    "plt.title('Number of Accidents in Relation to Severity for Bern and Zurich')\n",
    "plt.legend([\"Accident with fatalities\",\"Accident with light insuries\",\"Accidents with severe injuries\"]);"
   ]
  },
  {
   "cell_type": "markdown",
   "metadata": {
    "id": "LDrgCMrKEO6n"
   },
   "source": [
    "#### H1 seems to be true since there are more severe accidents in Zurich than in Bern. But more fatalities in Bern"
   ]
  },
  {
   "cell_type": "markdown",
   "metadata": {
    "id": "YsfcLKdCEO6n"
   },
   "source": [
    "### H2: The time of the year has an impact on the severity of the accident. Accidents that happen in Q1 and Q4 are generally more severe. \n",
    "One sample test."
   ]
  },
  {
   "cell_type": "code",
   "execution_count": null,
   "metadata": {
    "id": "6zLoNjONEO6n",
    "outputId": "e7c1a6c8-bc27-4335-a745-1e51cef75942"
   },
   "outputs": [],
   "source": [
    "#H2 Testing\n",
    "#group the months by quarters\n",
    "def quarter (row):\n",
    "   if row['AccidentMonth_en'] == 'January' :\n",
    "      return 'Q1 and Q4'\n",
    "   if row['AccidentMonth_en'] == 'February' :\n",
    "      return 'Q1 and Q4'\n",
    "   if row['AccidentMonth_en'] == 'March' :\n",
    "      return 'Q1 and Q4'\n",
    "   if row['AccidentMonth_en'] == 'April' :\n",
    "      return 'Q2 and Q3'\n",
    "   if row['AccidentMonth_en'] == 'May' :\n",
    "      return 'Q2 and Q3'\n",
    "   if row['AccidentMonth_en'] == 'June':\n",
    "      return 'Q2 and Q3'\n",
    "   if row['AccidentMonth_en']  == 'July':\n",
    "      return 'Q2 and Q3'\n",
    "   if row['AccidentMonth_en'] == 'August':\n",
    "      return 'Q2 and Q3'\n",
    "   if row['AccidentMonth_en'] == 'September':\n",
    "      return 'Q2 and Q3'\n",
    "   if row['AccidentMonth_en'] == 'October' :\n",
    "      return 'Q1 and Q4'\n",
    "   if row['AccidentMonth_en'] == 'November':\n",
    "      return 'Q1 and Q4'\n",
    "   if row['AccidentMonth_en']  == 'December':\n",
    "      return 'Q1 and Q4'    \n",
    "   return 'Other'\n",
    "\n",
    "#add a new column called quarter to the dataset\n",
    "df_cleaned['quarter'] = df.apply (lambda row: quarter(row), axis=1)\n",
    "\n",
    "df_cleaned.groupby('AccidentSeverityCategory_en').quarter.value_counts().unstack(0).plot.barh(color=c);\n",
    "\n",
    "#rename the axis and labels\n",
    "plt.ylabel('Quarter')\n",
    "plt.xlabel('Frequency')\n",
    "plt.title('Severity of Accidents by Quarter')\n",
    "plt.legend([\"Accident with fatalities\",\"Accident with light insuries\",\"Accidents with severe injuries\"]);"
   ]
  },
  {
   "cell_type": "code",
   "execution_count": null,
   "metadata": {
    "id": "KvFL1mfdEO6o",
    "outputId": "fad78bb8-3742-44d2-f7a3-0a575f84ff78"
   },
   "outputs": [],
   "source": [
    "#group the months by quarters\n",
    "def quarter (row):\n",
    "   if row['AccidentMonth_en'] == 'January' :\n",
    "      return 'Q1'\n",
    "   if row['AccidentMonth_en'] == 'February' :\n",
    "      return 'Q1'\n",
    "   if row['AccidentMonth_en'] == 'March' :\n",
    "      return 'Q1'\n",
    "   if row['AccidentMonth_en'] == 'April' :\n",
    "      return 'Q2'\n",
    "   if row['AccidentMonth_en'] == 'May' :\n",
    "      return 'Q2'\n",
    "   if row['AccidentMonth_en'] == 'June':\n",
    "      return 'Q2'\n",
    "   if row['AccidentMonth_en']  == 'July':\n",
    "      return 'Q3'\n",
    "   if row['AccidentMonth_en'] == 'August':\n",
    "      return 'Q3'\n",
    "   if row['AccidentMonth_en'] == 'September':\n",
    "      return 'Q3'\n",
    "   if row['AccidentMonth_en'] == 'October' :\n",
    "      return 'Q4'\n",
    "   if row['AccidentMonth_en'] == 'November':\n",
    "      return 'Q4'\n",
    "   if row['AccidentMonth_en']  == 'December':\n",
    "      return 'Q4'    \n",
    "   return 'Other'\n",
    "\n",
    "#add a new column called quarter to the dataset\n",
    "df_cleaned['quarter'] = df.apply (lambda row: quarter(row), axis=1)\n",
    "\n",
    "df_cleaned.groupby('AccidentSeverityCategory_en').quarter.value_counts().unstack(0).plot.barh(color=c);\n",
    "\n",
    "#rename the axis and labels\n",
    "plt.ylabel('Quarter')\n",
    "plt.xlabel('Frequency')\n",
    "plt.title('Severity of Accidents by Quarter')\n",
    "plt.legend([\"Accident with fatalities\",\"Accident with light insuries\",\"Accidents with severe injuries\"]);"
   ]
  },
  {
   "cell_type": "markdown",
   "metadata": {
    "id": "XhPwl8InEO6o"
   },
   "source": [
    "#### H2 does not seem to be true. There seem to be more severe accidents in quarters 2 and 3 than in quarters 1 and 4."
   ]
  },
  {
   "cell_type": "markdown",
   "metadata": {
    "id": "tzT-IrcZEO6o"
   },
   "source": [
    "### H3: Average fatal Accidents per canton is equal to Average fatal Accidents in Bern\n",
    "### H0: Null Hypothesis would be, Average fatal Accidents per canton is not equal to that of Bern.\n",
    "\n",
    "After the null hypothesis testing we will be able to conclude if Bern is one of the safer cantons of Switzerland.\n",
    "\n",
    "For this we need to calculate the mean of Accidents with fatalities and then divide it by the number of cantons. This will give us the Average fatal Accidents per canton. The sample mean.\n",
    "\n",
    "To evaluate the hypothesis, we will use Two Sample tTest."
   ]
  },
  {
   "cell_type": "code",
   "execution_count": 27,
   "metadata": {
    "colab": {
     "base_uri": "https://localhost:8080/",
     "height": 394
    },
    "id": "PVMm5_fUEO6o",
    "outputId": "ea0632c9-3133-4f9b-a4f0-d591026434ca"
   },
   "outputs": [
    {
     "data": {
      "text/html": [
       "<div>\n",
       "<style scoped>\n",
       "    .dataframe tbody tr th:only-of-type {\n",
       "        vertical-align: middle;\n",
       "    }\n",
       "\n",
       "    .dataframe tbody tr th {\n",
       "        vertical-align: top;\n",
       "    }\n",
       "\n",
       "    .dataframe thead th {\n",
       "        text-align: right;\n",
       "    }\n",
       "</style>\n",
       "<table border=\"1\" class=\"dataframe\">\n",
       "  <thead>\n",
       "    <tr style=\"text-align: right;\">\n",
       "      <th></th>\n",
       "      <th>AccidentUID</th>\n",
       "      <th>AccidentType</th>\n",
       "      <th>AccidentType_en</th>\n",
       "      <th>AccidentSeverityCategory</th>\n",
       "      <th>AccidentSeverityCategory_en</th>\n",
       "      <th>AccidentInvolvingPedestrian</th>\n",
       "      <th>AccidentInvolvingBicycle</th>\n",
       "      <th>AccidentInvolvingMotorcycle</th>\n",
       "      <th>RoadType</th>\n",
       "      <th>RoadType_en</th>\n",
       "      <th>CantonCode</th>\n",
       "      <th>MunicipalityCode</th>\n",
       "      <th>AccidentYear</th>\n",
       "      <th>AccidentMonth</th>\n",
       "      <th>AccidentMonth_en</th>\n",
       "      <th>AccidentWeekDay</th>\n",
       "      <th>AccidentWeekDay_en</th>\n",
       "      <th>AccidentHour</th>\n",
       "    </tr>\n",
       "  </thead>\n",
       "  <tbody>\n",
       "    <tr>\n",
       "      <th>23</th>\n",
       "      <td>A7017A5EAF2C000AE0430A839427000A</td>\n",
       "      <td>at0</td>\n",
       "      <td>Accident with skidding or self-accident</td>\n",
       "      <td>as1</td>\n",
       "      <td>Accident with fatalities</td>\n",
       "      <td>False</td>\n",
       "      <td>False</td>\n",
       "      <td>False</td>\n",
       "      <td>rt432</td>\n",
       "      <td>Principal road</td>\n",
       "      <td>ZH</td>\n",
       "      <td>0191</td>\n",
       "      <td>2011</td>\n",
       "      <td>1</td>\n",
       "      <td>January</td>\n",
       "      <td>aw407</td>\n",
       "      <td>Sunday</td>\n",
       "      <td>4.0</td>\n",
       "    </tr>\n",
       "    <tr>\n",
       "      <th>26</th>\n",
       "      <td>9FC309470799D0B4E0430A865E33D0B4</td>\n",
       "      <td>at0</td>\n",
       "      <td>Accident with skidding or self-accident</td>\n",
       "      <td>as1</td>\n",
       "      <td>Accident with fatalities</td>\n",
       "      <td>False</td>\n",
       "      <td>False</td>\n",
       "      <td>False</td>\n",
       "      <td>rt433</td>\n",
       "      <td>Minor road</td>\n",
       "      <td>FR</td>\n",
       "      <td>2129</td>\n",
       "      <td>2011</td>\n",
       "      <td>1</td>\n",
       "      <td>January</td>\n",
       "      <td>aw407</td>\n",
       "      <td>Sunday</td>\n",
       "      <td>10.0</td>\n",
       "    </tr>\n",
       "    <tr>\n",
       "      <th>79</th>\n",
       "      <td>9AD144B2BA813044E0430A865E333044</td>\n",
       "      <td>at0</td>\n",
       "      <td>Accident with skidding or self-accident</td>\n",
       "      <td>as1</td>\n",
       "      <td>Accident with fatalities</td>\n",
       "      <td>False</td>\n",
       "      <td>False</td>\n",
       "      <td>False</td>\n",
       "      <td>rt433</td>\n",
       "      <td>Minor road</td>\n",
       "      <td>GE</td>\n",
       "      <td>6629</td>\n",
       "      <td>2011</td>\n",
       "      <td>1</td>\n",
       "      <td>January</td>\n",
       "      <td>aw402</td>\n",
       "      <td>Tuesday</td>\n",
       "      <td>6.0</td>\n",
       "    </tr>\n",
       "    <tr>\n",
       "      <th>89</th>\n",
       "      <td>98153E733C4700FEE0430A865E3300FE</td>\n",
       "      <td>at0</td>\n",
       "      <td>Accident with skidding or self-accident</td>\n",
       "      <td>as1</td>\n",
       "      <td>Accident with fatalities</td>\n",
       "      <td>False</td>\n",
       "      <td>False</td>\n",
       "      <td>False</td>\n",
       "      <td>rt433</td>\n",
       "      <td>Minor road</td>\n",
       "      <td>NE</td>\n",
       "      <td>6456</td>\n",
       "      <td>2011</td>\n",
       "      <td>1</td>\n",
       "      <td>January</td>\n",
       "      <td>aw402</td>\n",
       "      <td>Tuesday</td>\n",
       "      <td>15.0</td>\n",
       "    </tr>\n",
       "    <tr>\n",
       "      <th>105</th>\n",
       "      <td>A7016BAAF12700F2E0430A83942700F2</td>\n",
       "      <td>at4</td>\n",
       "      <td>Accident when turning-into main road</td>\n",
       "      <td>as1</td>\n",
       "      <td>Accident with fatalities</td>\n",
       "      <td>False</td>\n",
       "      <td>True</td>\n",
       "      <td>False</td>\n",
       "      <td>rt433</td>\n",
       "      <td>Minor road</td>\n",
       "      <td>ZH</td>\n",
       "      <td>0053</td>\n",
       "      <td>2011</td>\n",
       "      <td>1</td>\n",
       "      <td>January</td>\n",
       "      <td>aw403</td>\n",
       "      <td>Wednesday</td>\n",
       "      <td>11.0</td>\n",
       "    </tr>\n",
       "  </tbody>\n",
       "</table>\n",
       "</div>"
      ],
      "text/plain": [
       "                          AccidentUID AccidentType  \\\n",
       "23   A7017A5EAF2C000AE0430A839427000A          at0   \n",
       "26   9FC309470799D0B4E0430A865E33D0B4          at0   \n",
       "79   9AD144B2BA813044E0430A865E333044          at0   \n",
       "89   98153E733C4700FEE0430A865E3300FE          at0   \n",
       "105  A7016BAAF12700F2E0430A83942700F2          at4   \n",
       "\n",
       "                             AccidentType_en AccidentSeverityCategory  \\\n",
       "23   Accident with skidding or self-accident                      as1   \n",
       "26   Accident with skidding or self-accident                      as1   \n",
       "79   Accident with skidding or self-accident                      as1   \n",
       "89   Accident with skidding or self-accident                      as1   \n",
       "105     Accident when turning-into main road                      as1   \n",
       "\n",
       "    AccidentSeverityCategory_en  AccidentInvolvingPedestrian  \\\n",
       "23     Accident with fatalities                        False   \n",
       "26     Accident with fatalities                        False   \n",
       "79     Accident with fatalities                        False   \n",
       "89     Accident with fatalities                        False   \n",
       "105    Accident with fatalities                        False   \n",
       "\n",
       "     AccidentInvolvingBicycle  AccidentInvolvingMotorcycle RoadType  \\\n",
       "23                      False                        False    rt432   \n",
       "26                      False                        False    rt433   \n",
       "79                      False                        False    rt433   \n",
       "89                      False                        False    rt433   \n",
       "105                      True                        False    rt433   \n",
       "\n",
       "        RoadType_en CantonCode MunicipalityCode  AccidentYear  AccidentMonth  \\\n",
       "23   Principal road         ZH             0191          2011              1   \n",
       "26       Minor road         FR             2129          2011              1   \n",
       "79       Minor road         GE             6629          2011              1   \n",
       "89       Minor road         NE             6456          2011              1   \n",
       "105      Minor road         ZH             0053          2011              1   \n",
       "\n",
       "    AccidentMonth_en AccidentWeekDay AccidentWeekDay_en  AccidentHour  \n",
       "23           January           aw407             Sunday           4.0  \n",
       "26           January           aw407             Sunday          10.0  \n",
       "79           January           aw402            Tuesday           6.0  \n",
       "89           January           aw402            Tuesday          15.0  \n",
       "105          January           aw403          Wednesday          11.0  "
      ]
     },
     "execution_count": 27,
     "metadata": {},
     "output_type": "execute_result"
    }
   ],
   "source": [
    "#H3 Testing\n",
    "df_hypothesis = df_cleaned.copy()\n",
    "#keeping the 'Accidents with fatalities' values only\n",
    "df_hypothesis = df[df['AccidentSeverityCategory_en'] == 'Accident with fatalities']\n",
    "df_hypothesis.head()\n"
   ]
  },
  {
   "cell_type": "code",
   "execution_count": 28,
   "metadata": {
    "colab": {
     "base_uri": "https://localhost:8080/"
    },
    "id": "1GzLAXq4iukP",
    "outputId": "01e10182-67ed-4895-e1df-5f8e10dc7192"
   },
   "outputs": [
    {
     "data": {
      "text/plain": [
       "9.211538461538462"
      ]
     },
     "execution_count": 28,
     "metadata": {},
     "output_type": "execute_result"
    }
   ],
   "source": [
    "#Average number of fatal Accidents per canton in Switzerland\n",
    "df_hypothesis.groupby(['AccidentYear']).size().mean()/26"
   ]
  },
  {
   "cell_type": "code",
   "execution_count": 29,
   "metadata": {
    "colab": {
     "base_uri": "https://localhost:8080/",
     "height": 377
    },
    "id": "BSXOu6Ozj7aj",
    "outputId": "e200277a-ebfa-409f-9097-fea5d506af4b"
   },
   "outputs": [
    {
     "data": {
      "text/html": [
       "<div>\n",
       "<style scoped>\n",
       "    .dataframe tbody tr th:only-of-type {\n",
       "        vertical-align: middle;\n",
       "    }\n",
       "\n",
       "    .dataframe tbody tr th {\n",
       "        vertical-align: top;\n",
       "    }\n",
       "\n",
       "    .dataframe thead th {\n",
       "        text-align: right;\n",
       "    }\n",
       "</style>\n",
       "<table border=\"1\" class=\"dataframe\">\n",
       "  <thead>\n",
       "    <tr style=\"text-align: right;\">\n",
       "      <th></th>\n",
       "      <th>AccidentUID</th>\n",
       "      <th>AccidentType</th>\n",
       "      <th>AccidentType_en</th>\n",
       "      <th>AccidentSeverityCategory</th>\n",
       "      <th>AccidentSeverityCategory_en</th>\n",
       "      <th>AccidentInvolvingPedestrian</th>\n",
       "      <th>AccidentInvolvingBicycle</th>\n",
       "      <th>AccidentInvolvingMotorcycle</th>\n",
       "      <th>RoadType</th>\n",
       "      <th>RoadType_en</th>\n",
       "      <th>CantonCode</th>\n",
       "      <th>MunicipalityCode</th>\n",
       "      <th>AccidentYear</th>\n",
       "      <th>AccidentMonth</th>\n",
       "      <th>AccidentMonth_en</th>\n",
       "      <th>AccidentWeekDay</th>\n",
       "      <th>AccidentWeekDay_en</th>\n",
       "      <th>AccidentHour</th>\n",
       "    </tr>\n",
       "  </thead>\n",
       "  <tbody>\n",
       "    <tr>\n",
       "      <th>293</th>\n",
       "      <td>9BAC5E61007570EAE0430A865E3370EA</td>\n",
       "      <td>at6</td>\n",
       "      <td>Accident with head-on collision</td>\n",
       "      <td>as1</td>\n",
       "      <td>Accident with fatalities</td>\n",
       "      <td>False</td>\n",
       "      <td>False</td>\n",
       "      <td>False</td>\n",
       "      <td>rt432</td>\n",
       "      <td>Principal road</td>\n",
       "      <td>BE</td>\n",
       "      <td>0952</td>\n",
       "      <td>2011</td>\n",
       "      <td>1</td>\n",
       "      <td>January</td>\n",
       "      <td>aw401</td>\n",
       "      <td>Monday</td>\n",
       "      <td>7.0</td>\n",
       "    </tr>\n",
       "    <tr>\n",
       "      <th>686</th>\n",
       "      <td>9B1F48828BC87050E0430A865E337050</td>\n",
       "      <td>at0</td>\n",
       "      <td>Accident with skidding or self-accident</td>\n",
       "      <td>as1</td>\n",
       "      <td>Accident with fatalities</td>\n",
       "      <td>False</td>\n",
       "      <td>False</td>\n",
       "      <td>False</td>\n",
       "      <td>rt433</td>\n",
       "      <td>Minor road</td>\n",
       "      <td>BE</td>\n",
       "      <td>0546</td>\n",
       "      <td>2011</td>\n",
       "      <td>1</td>\n",
       "      <td>January</td>\n",
       "      <td>aw403</td>\n",
       "      <td>Wednesday</td>\n",
       "      <td>7.0</td>\n",
       "    </tr>\n",
       "    <tr>\n",
       "      <th>779</th>\n",
       "      <td>9ADCFAA98CEF50EAE0430A865E3350EA</td>\n",
       "      <td>at0</td>\n",
       "      <td>Accident with skidding or self-accident</td>\n",
       "      <td>as1</td>\n",
       "      <td>Accident with fatalities</td>\n",
       "      <td>False</td>\n",
       "      <td>False</td>\n",
       "      <td>False</td>\n",
       "      <td>rt433</td>\n",
       "      <td>Minor road</td>\n",
       "      <td>BE</td>\n",
       "      <td>0496</td>\n",
       "      <td>2011</td>\n",
       "      <td>1</td>\n",
       "      <td>January</td>\n",
       "      <td>aw404</td>\n",
       "      <td>Thursday</td>\n",
       "      <td>22.0</td>\n",
       "    </tr>\n",
       "    <tr>\n",
       "      <th>999</th>\n",
       "      <td>9BFF547225BAC0F0E0430A865E33C0F0</td>\n",
       "      <td>at5</td>\n",
       "      <td>Accident when crossing the lane(s)</td>\n",
       "      <td>as1</td>\n",
       "      <td>Accident with fatalities</td>\n",
       "      <td>False</td>\n",
       "      <td>False</td>\n",
       "      <td>False</td>\n",
       "      <td>rt432</td>\n",
       "      <td>Principal road</td>\n",
       "      <td>BE</td>\n",
       "      <td>0351</td>\n",
       "      <td>2011</td>\n",
       "      <td>1</td>\n",
       "      <td>January</td>\n",
       "      <td>aw404</td>\n",
       "      <td>Thursday</td>\n",
       "      <td>14.0</td>\n",
       "    </tr>\n",
       "    <tr>\n",
       "      <th>1239</th>\n",
       "      <td>9C0BA243AF21A024E0430A865E33A024</td>\n",
       "      <td>at0</td>\n",
       "      <td>Accident with skidding or self-accident</td>\n",
       "      <td>as1</td>\n",
       "      <td>Accident with fatalities</td>\n",
       "      <td>False</td>\n",
       "      <td>False</td>\n",
       "      <td>False</td>\n",
       "      <td>rt430</td>\n",
       "      <td>Motorway</td>\n",
       "      <td>BE</td>\n",
       "      <td>0942</td>\n",
       "      <td>2011</td>\n",
       "      <td>2</td>\n",
       "      <td>February</td>\n",
       "      <td>aw404</td>\n",
       "      <td>Thursday</td>\n",
       "      <td>15.0</td>\n",
       "    </tr>\n",
       "  </tbody>\n",
       "</table>\n",
       "</div>"
      ],
      "text/plain": [
       "                           AccidentUID AccidentType  \\\n",
       "293   9BAC5E61007570EAE0430A865E3370EA          at6   \n",
       "686   9B1F48828BC87050E0430A865E337050          at0   \n",
       "779   9ADCFAA98CEF50EAE0430A865E3350EA          at0   \n",
       "999   9BFF547225BAC0F0E0430A865E33C0F0          at5   \n",
       "1239  9C0BA243AF21A024E0430A865E33A024          at0   \n",
       "\n",
       "                              AccidentType_en AccidentSeverityCategory  \\\n",
       "293           Accident with head-on collision                      as1   \n",
       "686   Accident with skidding or self-accident                      as1   \n",
       "779   Accident with skidding or self-accident                      as1   \n",
       "999        Accident when crossing the lane(s)                      as1   \n",
       "1239  Accident with skidding or self-accident                      as1   \n",
       "\n",
       "     AccidentSeverityCategory_en  AccidentInvolvingPedestrian  \\\n",
       "293     Accident with fatalities                        False   \n",
       "686     Accident with fatalities                        False   \n",
       "779     Accident with fatalities                        False   \n",
       "999     Accident with fatalities                        False   \n",
       "1239    Accident with fatalities                        False   \n",
       "\n",
       "      AccidentInvolvingBicycle  AccidentInvolvingMotorcycle RoadType  \\\n",
       "293                      False                        False    rt432   \n",
       "686                      False                        False    rt433   \n",
       "779                      False                        False    rt433   \n",
       "999                      False                        False    rt432   \n",
       "1239                     False                        False    rt430   \n",
       "\n",
       "         RoadType_en CantonCode MunicipalityCode  AccidentYear  AccidentMonth  \\\n",
       "293   Principal road         BE             0952          2011              1   \n",
       "686       Minor road         BE             0546          2011              1   \n",
       "779       Minor road         BE             0496          2011              1   \n",
       "999   Principal road         BE             0351          2011              1   \n",
       "1239        Motorway         BE             0942          2011              2   \n",
       "\n",
       "     AccidentMonth_en AccidentWeekDay AccidentWeekDay_en  AccidentHour  \n",
       "293           January           aw401             Monday           7.0  \n",
       "686           January           aw403          Wednesday           7.0  \n",
       "779           January           aw404           Thursday          22.0  \n",
       "999           January           aw404           Thursday          14.0  \n",
       "1239         February           aw404           Thursday          15.0  "
      ]
     },
     "execution_count": 29,
     "metadata": {},
     "output_type": "execute_result"
    }
   ],
   "source": [
    "df_hypothesis_bern = df_hypothesis[df_hypothesis['CantonCode']=='BE']\n",
    "\n",
    "df_hypothesis_bern.head()"
   ]
  },
  {
   "cell_type": "markdown",
   "metadata": {
    "id": "hm7iF1s0kx96"
   },
   "source": [
    "#### Two sample tTest"
   ]
  },
  {
   "cell_type": "code",
   "execution_count": 30,
   "metadata": {
    "colab": {
     "base_uri": "https://localhost:8080/"
    },
    "id": "RfdxpSuIk4gM",
    "outputId": "fedcb8df-5477-4f89-9027-542772ec197d"
   },
   "outputs": [
    {
     "name": "stderr",
     "output_type": "stream",
     "text": [
      "C:\\Users\\maria\\anaconda3\\lib\\site-packages\\pandas\\core\\generic.py:5494: SettingWithCopyWarning: \n",
      "A value is trying to be set on a copy of a slice from a DataFrame.\n",
      "Try using .loc[row_indexer,col_indexer] = value instead\n",
      "\n",
      "See the caveats in the documentation: https://pandas.pydata.org/pandas-docs/stable/user_guide/indexing.html#returning-a-view-versus-a-copy\n",
      "  self[name] = value\n",
      "<ipython-input-30-23fa6c8a2fac>:5: SettingWithCopyWarning: \n",
      "A value is trying to be set on a copy of a slice from a DataFrame.\n",
      "Try using .loc[row_indexer,col_indexer] = value instead\n",
      "\n",
      "See the caveats in the documentation: https://pandas.pydata.org/pandas-docs/stable/user_guide/indexing.html#returning-a-view-versus-a-copy\n",
      "  df_hypothesis['AccidentTypeCode'] = df_hypothesis.AccidentType_en.cat.codes\n",
      "<ipython-input-30-23fa6c8a2fac>:7: SettingWithCopyWarning: \n",
      "A value is trying to be set on a copy of a slice from a DataFrame.\n",
      "Try using .loc[row_indexer,col_indexer] = value instead\n",
      "\n",
      "See the caveats in the documentation: https://pandas.pydata.org/pandas-docs/stable/user_guide/indexing.html#returning-a-view-versus-a-copy\n",
      "  df_hypothesis_bern['AccidentTypeCode'] = df_hypothesis_bern.AccidentType_en.cat.codes\n"
     ]
    }
   ],
   "source": [
    "import statsmodels.api as sm\n",
    "from scipy import stats\n",
    "\n",
    "df_hypothesis.AccidentType_en = df_hypothesis.AccidentType_en.astype('category')\n",
    "df_hypothesis['AccidentTypeCode'] = df_hypothesis.AccidentType_en.cat.codes\n",
    "df_hypothesis_bern.AccidentType_en = df_hypothesis_bern.AccidentType_en.astype('category')\n",
    "df_hypothesis_bern['AccidentTypeCode'] = df_hypothesis_bern.AccidentType_en.cat.codes"
   ]
  },
  {
   "cell_type": "code",
   "execution_count": 31,
   "metadata": {
    "colab": {
     "base_uri": "https://localhost:8080/",
     "height": 163
    },
    "id": "cVdRif6-lFa4",
    "outputId": "56f9d484-8d36-4148-9bdc-8ae3ba05629e"
   },
   "outputs": [
    {
     "data": {
      "text/plain": [
       "Ttest_indResult(statistic=0.3455304860978335, pvalue=0.7298681233798292)"
      ]
     },
     "execution_count": 31,
     "metadata": {},
     "output_type": "execute_result"
    }
   ],
   "source": [
    "stats.ttest_ind(df_hypothesis['AccidentTypeCode'],df_hypothesis_bern['AccidentTypeCode'], equal_var = False, alternative='two-sided')"
   ]
  },
  {
   "cell_type": "markdown",
   "metadata": {
    "id": "bDpNfnXhnXkt"
   },
   "source": [
    "Since the p-value is greater than 0.05, we can not reject the null hypothesis. This means that we can conclude that the Average number of fatal accidents per canton is not equal to that of Bern, and Bern is among the 'not-so-safe' cantons of switzerland.\n",
    "\n",
    "But there could be various other considerations that need to be taken into account. The area of the region and the population of the canton can bias the stats."
   ]
  },
  {
   "cell_type": "markdown",
   "metadata": {
    "id": "TgOgQ9aBEO6o"
   },
   "source": [
    "## 5) Predictions for the Future and Outlook"
   ]
  },
  {
   "cell_type": "code",
   "execution_count": 32,
   "metadata": {
    "colab": {
     "base_uri": "https://localhost:8080/",
     "height": 343
    },
    "id": "k7GKLj0rlEuc",
    "outputId": "01cb242f-713b-4be3-93f9-5211066a346a"
   },
   "outputs": [
    {
     "data": {
      "text/html": [
       "<div>\n",
       "<style scoped>\n",
       "    .dataframe tbody tr th:only-of-type {\n",
       "        vertical-align: middle;\n",
       "    }\n",
       "\n",
       "    .dataframe tbody tr th {\n",
       "        vertical-align: top;\n",
       "    }\n",
       "\n",
       "    .dataframe thead th {\n",
       "        text-align: right;\n",
       "    }\n",
       "</style>\n",
       "<table border=\"1\" class=\"dataframe\">\n",
       "  <thead>\n",
       "    <tr style=\"text-align: right;\">\n",
       "      <th></th>\n",
       "      <th>AccidentUID</th>\n",
       "      <th>AccidentType</th>\n",
       "      <th>AccidentType_en</th>\n",
       "      <th>AccidentSeverityCategory</th>\n",
       "      <th>AccidentSeverityCategory_en</th>\n",
       "      <th>AccidentInvolvingPedestrian</th>\n",
       "      <th>AccidentInvolvingBicycle</th>\n",
       "      <th>AccidentInvolvingMotorcycle</th>\n",
       "      <th>RoadType</th>\n",
       "      <th>RoadType_en</th>\n",
       "      <th>CantonCode</th>\n",
       "      <th>MunicipalityCode</th>\n",
       "      <th>AccidentYear</th>\n",
       "      <th>AccidentMonth</th>\n",
       "      <th>AccidentMonth_en</th>\n",
       "      <th>AccidentWeekDay</th>\n",
       "      <th>AccidentWeekDay_en</th>\n",
       "      <th>AccidentHour</th>\n",
       "    </tr>\n",
       "  </thead>\n",
       "  <tbody>\n",
       "    <tr>\n",
       "      <th>0</th>\n",
       "      <td>9FD6441F802C20A6E0430A865E3320A6</td>\n",
       "      <td>at0</td>\n",
       "      <td>Accident with skidding or self-accident</td>\n",
       "      <td>as3</td>\n",
       "      <td>Accident with light injuries</td>\n",
       "      <td>False</td>\n",
       "      <td>True</td>\n",
       "      <td>False</td>\n",
       "      <td>rt433</td>\n",
       "      <td>Minor road</td>\n",
       "      <td>ZH</td>\n",
       "      <td>0261</td>\n",
       "      <td>2011</td>\n",
       "      <td>1</td>\n",
       "      <td>January</td>\n",
       "      <td>aw406</td>\n",
       "      <td>Saturday</td>\n",
       "      <td>1.0</td>\n",
       "    </tr>\n",
       "    <tr>\n",
       "      <th>1</th>\n",
       "      <td>99AE7B25356510B0E0430A865E3310B0</td>\n",
       "      <td>at4</td>\n",
       "      <td>Accident when turning-into main road</td>\n",
       "      <td>as3</td>\n",
       "      <td>Accident with light injuries</td>\n",
       "      <td>False</td>\n",
       "      <td>False</td>\n",
       "      <td>True</td>\n",
       "      <td>rt433</td>\n",
       "      <td>Minor road</td>\n",
       "      <td>GE</td>\n",
       "      <td>6621</td>\n",
       "      <td>2011</td>\n",
       "      <td>1</td>\n",
       "      <td>January</td>\n",
       "      <td>aw406</td>\n",
       "      <td>Saturday</td>\n",
       "      <td>1.0</td>\n",
       "    </tr>\n",
       "    <tr>\n",
       "      <th>2</th>\n",
       "      <td>9A096471BA579094E0430A865E339094</td>\n",
       "      <td>at00</td>\n",
       "      <td>Other</td>\n",
       "      <td>as2</td>\n",
       "      <td>Accident with severe injuries</td>\n",
       "      <td>False</td>\n",
       "      <td>True</td>\n",
       "      <td>False</td>\n",
       "      <td>rt433</td>\n",
       "      <td>Minor road</td>\n",
       "      <td>BE</td>\n",
       "      <td>0371</td>\n",
       "      <td>2011</td>\n",
       "      <td>1</td>\n",
       "      <td>January</td>\n",
       "      <td>aw406</td>\n",
       "      <td>Saturday</td>\n",
       "      <td>2.0</td>\n",
       "    </tr>\n",
       "    <tr>\n",
       "      <th>3</th>\n",
       "      <td>9B1F49744917E014E0430A865E33E014</td>\n",
       "      <td>at3</td>\n",
       "      <td>Accident when turning left or right</td>\n",
       "      <td>as3</td>\n",
       "      <td>Accident with light injuries</td>\n",
       "      <td>False</td>\n",
       "      <td>False</td>\n",
       "      <td>False</td>\n",
       "      <td>rt433</td>\n",
       "      <td>Minor road</td>\n",
       "      <td>BS</td>\n",
       "      <td>2701</td>\n",
       "      <td>2011</td>\n",
       "      <td>1</td>\n",
       "      <td>January</td>\n",
       "      <td>aw406</td>\n",
       "      <td>Saturday</td>\n",
       "      <td>2.0</td>\n",
       "    </tr>\n",
       "    <tr>\n",
       "      <th>4</th>\n",
       "      <td>99B6C7F3285BB044E0430A865E33B044</td>\n",
       "      <td>at0</td>\n",
       "      <td>Accident with skidding or self-accident</td>\n",
       "      <td>as2</td>\n",
       "      <td>Accident with severe injuries</td>\n",
       "      <td>False</td>\n",
       "      <td>False</td>\n",
       "      <td>False</td>\n",
       "      <td>rt433</td>\n",
       "      <td>Minor road</td>\n",
       "      <td>TI</td>\n",
       "      <td>5203</td>\n",
       "      <td>2011</td>\n",
       "      <td>1</td>\n",
       "      <td>January</td>\n",
       "      <td>aw406</td>\n",
       "      <td>Saturday</td>\n",
       "      <td>2.0</td>\n",
       "    </tr>\n",
       "  </tbody>\n",
       "</table>\n",
       "</div>"
      ],
      "text/plain": [
       "                        AccidentUID AccidentType  \\\n",
       "0  9FD6441F802C20A6E0430A865E3320A6          at0   \n",
       "1  99AE7B25356510B0E0430A865E3310B0          at4   \n",
       "2  9A096471BA579094E0430A865E339094         at00   \n",
       "3  9B1F49744917E014E0430A865E33E014          at3   \n",
       "4  99B6C7F3285BB044E0430A865E33B044          at0   \n",
       "\n",
       "                           AccidentType_en AccidentSeverityCategory  \\\n",
       "0  Accident with skidding or self-accident                      as3   \n",
       "1     Accident when turning-into main road                      as3   \n",
       "2                                    Other                      as2   \n",
       "3      Accident when turning left or right                      as3   \n",
       "4  Accident with skidding or self-accident                      as2   \n",
       "\n",
       "     AccidentSeverityCategory_en  AccidentInvolvingPedestrian  \\\n",
       "0   Accident with light injuries                        False   \n",
       "1   Accident with light injuries                        False   \n",
       "2  Accident with severe injuries                        False   \n",
       "3   Accident with light injuries                        False   \n",
       "4  Accident with severe injuries                        False   \n",
       "\n",
       "   AccidentInvolvingBicycle  AccidentInvolvingMotorcycle RoadType RoadType_en  \\\n",
       "0                      True                        False    rt433  Minor road   \n",
       "1                     False                         True    rt433  Minor road   \n",
       "2                      True                        False    rt433  Minor road   \n",
       "3                     False                        False    rt433  Minor road   \n",
       "4                     False                        False    rt433  Minor road   \n",
       "\n",
       "  CantonCode MunicipalityCode  AccidentYear  AccidentMonth AccidentMonth_en  \\\n",
       "0         ZH             0261          2011              1          January   \n",
       "1         GE             6621          2011              1          January   \n",
       "2         BE             0371          2011              1          January   \n",
       "3         BS             2701          2011              1          January   \n",
       "4         TI             5203          2011              1          January   \n",
       "\n",
       "  AccidentWeekDay AccidentWeekDay_en  AccidentHour  \n",
       "0           aw406           Saturday           1.0  \n",
       "1           aw406           Saturday           1.0  \n",
       "2           aw406           Saturday           2.0  \n",
       "3           aw406           Saturday           2.0  \n",
       "4           aw406           Saturday           2.0  "
      ]
     },
     "execution_count": 32,
     "metadata": {},
     "output_type": "execute_result"
    }
   ],
   "source": [
    "df_pred = df_cleaned.copy()\n",
    "df_pred.head()"
   ]
  },
  {
   "cell_type": "code",
   "execution_count": 33,
   "metadata": {
    "colab": {
     "base_uri": "https://localhost:8080/",
     "height": 80
    },
    "id": "5g9WmZdHqZti",
    "outputId": "e84342b7-e31c-4474-ee3f-f7fcb7712aae"
   },
   "outputs": [
    {
     "data": {
      "text/html": [
       "<div>\n",
       "<style scoped>\n",
       "    .dataframe tbody tr th:only-of-type {\n",
       "        vertical-align: middle;\n",
       "    }\n",
       "\n",
       "    .dataframe tbody tr th {\n",
       "        vertical-align: top;\n",
       "    }\n",
       "\n",
       "    .dataframe thead th {\n",
       "        text-align: right;\n",
       "    }\n",
       "</style>\n",
       "<table border=\"1\" class=\"dataframe\">\n",
       "  <thead>\n",
       "    <tr style=\"text-align: right;\">\n",
       "      <th></th>\n",
       "      <th>AccidentYear</th>\n",
       "      <th>AccidentSeverityCategory_en</th>\n",
       "      <th>Count</th>\n",
       "    </tr>\n",
       "  </thead>\n",
       "  <tbody>\n",
       "    <tr>\n",
       "      <th>0</th>\n",
       "      <td>2011</td>\n",
       "      <td>Accident with fatalities</td>\n",
       "      <td>61</td>\n",
       "    </tr>\n",
       "    <tr>\n",
       "      <th>3</th>\n",
       "      <td>2012</td>\n",
       "      <td>Accident with fatalities</td>\n",
       "      <td>37</td>\n",
       "    </tr>\n",
       "    <tr>\n",
       "      <th>6</th>\n",
       "      <td>2013</td>\n",
       "      <td>Accident with fatalities</td>\n",
       "      <td>26</td>\n",
       "    </tr>\n",
       "    <tr>\n",
       "      <th>9</th>\n",
       "      <td>2014</td>\n",
       "      <td>Accident with fatalities</td>\n",
       "      <td>23</td>\n",
       "    </tr>\n",
       "    <tr>\n",
       "      <th>12</th>\n",
       "      <td>2015</td>\n",
       "      <td>Accident with fatalities</td>\n",
       "      <td>35</td>\n",
       "    </tr>\n",
       "    <tr>\n",
       "      <th>15</th>\n",
       "      <td>2016</td>\n",
       "      <td>Accident with fatalities</td>\n",
       "      <td>30</td>\n",
       "    </tr>\n",
       "    <tr>\n",
       "      <th>18</th>\n",
       "      <td>2017</td>\n",
       "      <td>Accident with fatalities</td>\n",
       "      <td>37</td>\n",
       "    </tr>\n",
       "    <tr>\n",
       "      <th>21</th>\n",
       "      <td>2018</td>\n",
       "      <td>Accident with fatalities</td>\n",
       "      <td>34</td>\n",
       "    </tr>\n",
       "    <tr>\n",
       "      <th>24</th>\n",
       "      <td>2019</td>\n",
       "      <td>Accident with fatalities</td>\n",
       "      <td>21</td>\n",
       "    </tr>\n",
       "    <tr>\n",
       "      <th>27</th>\n",
       "      <td>2020</td>\n",
       "      <td>Accident with fatalities</td>\n",
       "      <td>23</td>\n",
       "    </tr>\n",
       "  </tbody>\n",
       "</table>\n",
       "</div>"
      ],
      "text/plain": [
       "    AccidentYear AccidentSeverityCategory_en  Count\n",
       "0           2011    Accident with fatalities     61\n",
       "3           2012    Accident with fatalities     37\n",
       "6           2013    Accident with fatalities     26\n",
       "9           2014    Accident with fatalities     23\n",
       "12          2015    Accident with fatalities     35\n",
       "15          2016    Accident with fatalities     30\n",
       "18          2017    Accident with fatalities     37\n",
       "21          2018    Accident with fatalities     34\n",
       "24          2019    Accident with fatalities     21\n",
       "27          2020    Accident with fatalities     23"
      ]
     },
     "execution_count": 33,
     "metadata": {},
     "output_type": "execute_result"
    }
   ],
   "source": [
    "yearvsfatalities=df_pred[df_pred['CantonCode']=='BE'].groupby(['AccidentYear','AccidentSeverityCategory_en']).size().reset_index(name='Count')\n",
    "yearvsfatalities=yearvsfatalities[yearvsfatalities['AccidentSeverityCategory_en']=='Accident with fatalities']\n",
    "yearvsfatalities"
   ]
  },
  {
   "cell_type": "markdown",
   "metadata": {},
   "source": [
    "Now we can see some trend of fatal Accidents from 2011 to 2020. The number of accidents keep decreasing. For simplicity we have taken only Bern canton"
   ]
  },
  {
   "cell_type": "code",
   "execution_count": 34,
   "metadata": {
    "colab": {
     "base_uri": "https://localhost:8080/",
     "height": 471
    },
    "id": "hnPIzeGLr8Ny",
    "outputId": "391f9d76-4513-45c9-fb14-19d51cae84c6"
   },
   "outputs": [
    {
     "data": {
      "image/png": "[encoded data removed]",
      "text/plain": [
       "<Figure size 360x360 with 1 Axes>"
      ]
     },
     "metadata": {},
     "output_type": "display_data"
    }
   ],
   "source": [
    "color=np.repeat(np.array(['red', 'purple']), [20, 20], axis=0)\n",
    "\n",
    "plt.figure(figsize=(5  ,5))\n",
    "x=yearvsfatalities['AccidentYear']\n",
    "y=yearvsfatalities['Count']\n",
    "\n",
    "gradient, intercept, r_value, p_value, std_err = stats.linregress(x,y)\n",
    "mn=np.min(x)\n",
    "mx=np.max(x)\n",
    "x1=np.linspace(mn,mx,500)\n",
    "y1=gradient*x1+intercept\n",
    "plt.plot(x,y,'ob')\n",
    "plt.plot(x1,y1,'-r')\n",
    "\n",
    "plt.scatter(x,y)\n",
    "plt.xlabel('year')\n",
    "plt.ylabel('Number of Accidents with fatalities in Bern')\n",
    "\n",
    "\n",
    "\n",
    "plt.tight_layout(h_pad=1, w_pad=2)\n",
    "plt.show()"
   ]
  },
  {
   "cell_type": "markdown",
   "metadata": {
    "id": "lXkG2W4nsac4"
   },
   "source": [
    "Once we get the gradient and intercept, we can predict any data point with the linear regression. For future years, we input the year and get the possible number of fatal accidents as per our prediction."
   ]
  },
  {
   "cell_type": "code",
   "execution_count": 35,
   "metadata": {
    "colab": {
     "base_uri": "https://localhost:8080/"
    },
    "id": "bikxs9OssV1p",
    "outputId": "5866a798-8142-4b4a-dea1-ab8a11d24d04"
   },
   "outputs": [
    {
     "data": {
      "text/plain": [
       "17.848484848484077"
      ]
     },
     "execution_count": 35,
     "metadata": {},
     "output_type": "execute_result"
    }
   ],
   "source": [
    "#predicting number of accidents in Bern in 2022\n",
    "result= gradient*2022+intercept\n",
    "result"
   ]
  },
  {
   "cell_type": "markdown",
   "metadata": {
    "id": "OKAIo8a7sv5y"
   },
   "source": [
    "But this is not an ideal fit. As we have few number of points (10 in this case), the regression line is not best fitted. To solve this problem, we gather more points by combining year data with quarters and then have more points corresponding to different quarters of the years where Accidents happened."
   ]
  },
  {
   "cell_type": "markdown",
   "metadata": {
    "id": "IZbabaQSEO6o"
   },
   "source": [
    "### 5.1) Regression 1: Relationship between Quarters of the Year and Number of Fatal Accidents\n",
    "\n",
    "Linear Regression on QuarterAndYear with number of Accidents (to have more points)"
   ]
  },
  {
   "cell_type": "code",
   "execution_count": 41,
   "metadata": {
    "colab": {
     "base_uri": "https://localhost:8080/",
     "height": 111
    },
    "id": "I6cmg0pXEO6p",
    "outputId": "cb8c81b7-2fe1-4d4d-af85-626015ab6865"
   },
   "outputs": [
    {
     "data": {
      "text/html": [
       "<div>\n",
       "<style scoped>\n",
       "    .dataframe tbody tr th:only-of-type {\n",
       "        vertical-align: middle;\n",
       "    }\n",
       "\n",
       "    .dataframe tbody tr th {\n",
       "        vertical-align: top;\n",
       "    }\n",
       "\n",
       "    .dataframe thead th {\n",
       "        text-align: right;\n",
       "    }\n",
       "</style>\n",
       "<table border=\"1\" class=\"dataframe\">\n",
       "  <thead>\n",
       "    <tr style=\"text-align: right;\">\n",
       "      <th></th>\n",
       "      <th>QuaterAndYear</th>\n",
       "      <th>Count</th>\n",
       "    </tr>\n",
       "  </thead>\n",
       "  <tbody>\n",
       "    <tr>\n",
       "      <th>0</th>\n",
       "      <td>201101</td>\n",
       "      <td>15</td>\n",
       "    </tr>\n",
       "    <tr>\n",
       "      <th>1</th>\n",
       "      <td>201102</td>\n",
       "      <td>11</td>\n",
       "    </tr>\n",
       "    <tr>\n",
       "      <th>2</th>\n",
       "      <td>201103</td>\n",
       "      <td>18</td>\n",
       "    </tr>\n",
       "    <tr>\n",
       "      <th>3</th>\n",
       "      <td>201104</td>\n",
       "      <td>17</td>\n",
       "    </tr>\n",
       "    <tr>\n",
       "      <th>4</th>\n",
       "      <td>201201</td>\n",
       "      <td>8</td>\n",
       "    </tr>\n",
       "    <tr>\n",
       "      <th>5</th>\n",
       "      <td>201202</td>\n",
       "      <td>9</td>\n",
       "    </tr>\n",
       "    <tr>\n",
       "      <th>6</th>\n",
       "      <td>201203</td>\n",
       "      <td>7</td>\n",
       "    </tr>\n",
       "    <tr>\n",
       "      <th>7</th>\n",
       "      <td>201204</td>\n",
       "      <td>13</td>\n",
       "    </tr>\n",
       "    <tr>\n",
       "      <th>8</th>\n",
       "      <td>201301</td>\n",
       "      <td>2</td>\n",
       "    </tr>\n",
       "    <tr>\n",
       "      <th>9</th>\n",
       "      <td>201302</td>\n",
       "      <td>10</td>\n",
       "    </tr>\n",
       "  </tbody>\n",
       "</table>\n",
       "</div>"
      ],
      "text/plain": [
       "   QuaterAndYear  Count\n",
       "0         201101     15\n",
       "1         201102     11\n",
       "2         201103     18\n",
       "3         201104     17\n",
       "4         201201      8\n",
       "5         201202      9\n",
       "6         201203      7\n",
       "7         201204     13\n",
       "8         201301      2\n",
       "9         201302     10"
      ]
     },
     "execution_count": 41,
     "metadata": {},
     "output_type": "execute_result"
    }
   ],
   "source": [
    "df_newpred = df_pred[df_pred['AccidentSeverityCategory_en']=='Accident with fatalities'][['AccidentMonth','AccidentYear','CantonCode']]\n",
    "df_newpred['QuaterAndYear'] = df_newpred.apply (lambda row: row['AccidentYear']*100 + (row['AccidentMonth']-1)//3 + 1, axis=1 )\n",
    "df_newpred = df_newpred.drop(columns=['AccidentMonth','AccidentYear'])\n",
    "df_newpred = df_newpred[df_newpred['CantonCode']=='BE'].groupby(['QuaterAndYear']).size().reset_index(name='Count')\n",
    "df_newpred.head(10)"
   ]
  },
  {
   "cell_type": "code",
   "execution_count": 37,
   "metadata": {
    "colab": {
     "base_uri": "https://localhost:8080/",
     "height": 305
    },
    "id": "CZ_UQnTvutAJ",
    "outputId": "1aa80843-0515-4442-9c29-0c406d267fdd"
   },
   "outputs": [
    {
     "data": {
      "image/png": "[encoded data removed]",
      "text/plain": [
       "<Figure size 720x720 with 1 Axes>"
      ]
     },
     "metadata": {},
     "output_type": "display_data"
    }
   ],
   "source": [
    "x=df_newpred['QuaterAndYear']\n",
    "y=df_newpred['Count']\n",
    "plt.scatter(x,y)\n",
    "plt.xlabel('Quater')\n",
    "plt.ylabel('Number of Accidents with fatalities in Bern')\n",
    "plt.show()"
   ]
  },
  {
   "cell_type": "code",
   "execution_count": 38,
   "metadata": {
    "colab": {
     "base_uri": "https://localhost:8080/",
     "height": 628
    },
    "id": "kLaxMUPMuv3q",
    "outputId": "94c270c6-254a-484e-ce63-824d65475608"
   },
   "outputs": [
    {
     "data": {
      "text/plain": [
       "Text(0, 0.5, 'Number of Fatal Accidents in Bern')"
      ]
     },
     "execution_count": 38,
     "metadata": {},
     "output_type": "execute_result"
    },
    {
     "data": {
      "image/png": "[encoded data removed]",
      "text/plain": [
       "<Figure size 1080x720 with 1 Axes>"
      ]
     },
     "metadata": {},
     "output_type": "display_data"
    }
   ],
   "source": [
    "plt.figure(figsize=(15  ,10))\n",
    "x=df_newpred['QuaterAndYear']\n",
    "y=df_newpred['Count']\n",
    "\n",
    "gradient, intercept, r_value, p_value, std_err = stats.linregress(x,y)\n",
    "mn=np.min(x)\n",
    "mx=np.max(x)\n",
    "x1=np.linspace(mn,mx,500)\n",
    "y1=gradient*x1+intercept\n",
    "plt.plot(x,y,'ob')\n",
    "plt.plot(x1,y1,'-r')\n",
    "\n",
    "plt.scatter(x,y)\n",
    "plt.xlabel('QuarterAndYear')\n",
    "plt.ylabel('Number of Fatal Accidents in Bern')"
   ]
  },
  {
   "cell_type": "code",
   "execution_count": 39,
   "metadata": {
    "colab": {
     "base_uri": "https://localhost:8080/"
    },
    "id": "fcMFOn23vOjc",
    "outputId": "f39f9ac0-4631-41d1-ca02-b00833e0fb2b"
   },
   "outputs": [
    {
     "data": {
      "text/plain": [
       "4.444638995345258"
      ]
     },
     "execution_count": 39,
     "metadata": {},
     "output_type": "execute_result"
    }
   ],
   "source": [
    "#predicting number of accidents in Bern in first quarter of 2024\n",
    "result= gradient*202401+intercept\n",
    "result"
   ]
  },
  {
   "cell_type": "markdown",
   "metadata": {
    "id": "XyI7jZHNEO6p"
   },
   "source": [
    "### 5.2) Regression 2: Relationship between Amount of Rain and the Number of Accidents per Month and Year"
   ]
  },
  {
   "cell_type": "code",
   "execution_count": null,
   "metadata": {
    "id": "wcbg3yIWENh_",
    "outputId": "ec8371de-0c53-484b-8df0-6a416145bf48"
   },
   "outputs": [],
   "source": [
    "#create a new data subset with all accidents in ZH from 2011 to 2020\n",
    "df_zh = df_cleaned.copy()\n",
    "df_zh = df_zh[df_zh.CantonCode == 'ZH']\n",
    "df_zh = df_zh[df_zh['AccidentYear'].isin([2011,2012,2013,2014,2015,2016,2017,2018,2019,2020])]\n",
    "df_zh = df_zh[['AccidentType_en','AccidentSeverityCategory_en','CantonCode','AccidentYear','AccidentMonth','AccidentWeekDay',\n",
    "               'AccidentWeekDay_en','AccidentHour']]\n",
    "\n",
    "df_zh['AccidentMonth'] = df_zh['AccidentMonth'].astype('str')\n",
    "df_zh['AccidentMonth'] = df_zh['AccidentMonth'].str.zfill(2)\n",
    "df_zh = df_zh.rename(columns={'AccidentMonth': 'month'})\n",
    "\n",
    "#add a new column to consolidate year and month\n",
    "df_zh['YearMonth'] = df_zh.apply(lambda x: '%s-%s' % (x['AccidentYear'],x['month']), axis = 1)\n",
    "df_zh"
   ]
  },
  {
   "cell_type": "code",
   "execution_count": null,
   "metadata": {
    "id": "IKzEQGGUENh_",
    "outputId": "62651b0b-b562-423a-f28a-62393da6f3af"
   },
   "outputs": [],
   "source": [
    "#number of accidents per month\n",
    "df_zh_count = df_zh.groupby('YearMonth').size().reset_index(name='Accident Count')\n",
    "df_zh_count"
   ]
  },
  {
   "cell_type": "markdown",
   "metadata": {
    "id": "uoiau0knENiA"
   },
   "source": [
    "### Load a new dataset with weather data for Zurich in 2020"
   ]
  },
  {
   "cell_type": "code",
   "execution_count": null,
   "metadata": {
    "id": "5ogXQjHPENiA"
   },
   "outputs": [],
   "source": [
    "#load a new dataset with weather data in Zurich in 2020\n",
    "url20 = \"https://data.stadt-zuerich.ch/dataset/ugz_meteodaten_tagesmittelwerte/download/ugz_ogd_meteo_d1_2020.csv\"\n",
    "df_weather20 = pd.read_csv(url20)\n",
    "df_weather20 = df_weather20[df_weather20.Parameter == 'RainDur']\n",
    "\n",
    "#split the date into year, month and day format\n",
    "pd.to_datetime(df_weather20['Datum'])\n",
    "df_weather20[[\"year\", \"month\", \"day\"]] = df_weather20[\"Datum\"].str.split(\"-\", expand = True)\n",
    "df_weather20['YearMonth'] = df_weather20.apply(lambda x: '%s-%s' % (x['year'],x['month']), axis = 1)\n",
    "\n",
    "#create a new dataset with the total of rain per month for 2020\n",
    "df_rain20 = df_weather20.groupby(df_weather20.YearMonth).sum()\n",
    "df_rain20.reset_index(level=0, inplace=True)"
   ]
  },
  {
   "cell_type": "markdown",
   "metadata": {
    "id": "7Vua81zAENiA"
   },
   "source": [
    "### Load a new dataset with weather data for Zurich in 2019"
   ]
  },
  {
   "cell_type": "code",
   "execution_count": null,
   "metadata": {
    "id": "kQhJjnL4ENiA"
   },
   "outputs": [],
   "source": [
    "#load weather data for Zurich in 2019\n",
    "url19 = \"https://data.stadt-zuerich.ch/dataset/ugz_meteodaten_tagesmittelwerte/download/ugz_ogd_meteo_d1_2019.csv\"\n",
    "df_weather19 = pd.read_csv(url19)\n",
    "df_weather19 = df_weather19[df_weather19.Parameter == 'RainDur']\n",
    "\n",
    "#split the date into year, month and day format\n",
    "pd.to_datetime(df_weather19['Datum'])\n",
    "df_weather19[[\"year\", \"month\", \"day\"]] = df_weather19[\"Datum\"].str.split(\"-\", expand = True)\n",
    "df_weather19['YearMonth'] = df_weather19.apply(lambda x: '%s-%s' % (x['year'],x['month']), axis = 1)\n",
    "\n",
    "#create a new dataset with the total of rain per month for 2019\n",
    "df_rain19 = df_weather19.groupby(df_weather19.YearMonth).sum()\n",
    "df_rain19.reset_index(level=0, inplace=True)"
   ]
  },
  {
   "cell_type": "markdown",
   "metadata": {
    "id": "ucWYCAtrENiB"
   },
   "source": [
    "### Load a new dataset with weather data for Zurich in 2018"
   ]
  },
  {
   "cell_type": "code",
   "execution_count": null,
   "metadata": {
    "id": "lb7rq-gWENiB"
   },
   "outputs": [],
   "source": [
    "#load weather data for Zurich in 2018\n",
    "url18 = \"https://data.stadt-zuerich.ch/dataset/ugz_meteodaten_tagesmittelwerte/download/ugz_ogd_meteo_d1_2018.csv\"\n",
    "df_weather18 = pd.read_csv(url18)\n",
    "df_weather18 = df_weather18[df_weather18.Parameter == 'RainDur']\n",
    "\n",
    "#split the date into year, month and day format\n",
    "pd.to_datetime(df_weather18['Datum'])\n",
    "df_weather18[[\"year\", \"month\", \"day\"]] = df_weather18[\"Datum\"].str.split(\"-\", expand = True)\n",
    "df_weather18['YearMonth'] = df_weather18.apply(lambda x: '%s-%s' % (x['year'],x['month']), axis = 1)\n",
    "\n",
    "#create a new dataset with the total of rain per month for 2018\n",
    "df_rain18 = df_weather18.groupby(df_weather18.YearMonth).sum()\n",
    "df_rain18.reset_index(level=0, inplace=True)"
   ]
  },
  {
   "cell_type": "markdown",
   "metadata": {
    "id": "cuYNUSEVENiC"
   },
   "source": [
    "### Load a new dataset with weather data for Zurich in 2017"
   ]
  },
  {
   "cell_type": "code",
   "execution_count": null,
   "metadata": {
    "id": "jgvAB1jOENiC",
    "scrolled": true
   },
   "outputs": [],
   "source": [
    "#load weather data for Zurich in 2017\n",
    "url17 = \"https://data.stadt-zuerich.ch/dataset/ugz_meteodaten_tagesmittelwerte/download/ugz_ogd_meteo_d1_2017.csv\"\n",
    "df_weather17 = pd.read_csv(url17)\n",
    "df_weather17 = df_weather17[df_weather17.Parameter == 'RainDur']\n",
    "\n",
    "#split the date into year, month and day format\n",
    "pd.to_datetime(df_weather17['Datum'])\n",
    "df_weather17[[\"year\", \"month\", \"day\"]] = df_weather17[\"Datum\"].str.split(\"-\", expand = True)\n",
    "df_weather17['YearMonth'] = df_weather17.apply(lambda x: '%s-%s' % (x['year'],x['month']), axis = 1)\n",
    "\n",
    "#create a new dataset with the total of rain per month for 2017\n",
    "df_rain17 = df_weather17.groupby(df_weather17.YearMonth).sum()\n",
    "df_rain17.reset_index(level=0, inplace=True)"
   ]
  },
  {
   "cell_type": "markdown",
   "metadata": {
    "id": "r0ONY_wKENiC"
   },
   "source": [
    "### Load a new dataset with weather data for Zurich in 2016"
   ]
  },
  {
   "cell_type": "code",
   "execution_count": null,
   "metadata": {
    "id": "7_70mZXTENiD",
    "scrolled": true
   },
   "outputs": [],
   "source": [
    "#load weather data for Zurich in 2016\n",
    "url16 = \"https://data.stadt-zuerich.ch/dataset/ugz_meteodaten_tagesmittelwerte/download/ugz_ogd_meteo_d1_2016.csv\"\n",
    "df_weather16 = pd.read_csv(url16)\n",
    "df_weather16 = df_weather16[df_weather16.Parameter == 'RainDur']\n",
    "\n",
    "#split the date into year, month and day format\n",
    "pd.to_datetime(df_weather16['Datum'])\n",
    "df_weather16[[\"year\", \"month\", \"day\"]] = df_weather16[\"Datum\"].str.split(\"-\", expand = True)\n",
    "df_weather16['YearMonth'] = df_weather16.apply(lambda x: '%s-%s' % (x['year'],x['month']), axis = 1)\n",
    "\n",
    "#create a new dataset with the total of rain per month for 2016\n",
    "df_rain16 = df_weather16.groupby(df_weather16.YearMonth).sum()\n",
    "df_rain16.reset_index(level=0, inplace=True)"
   ]
  },
  {
   "cell_type": "markdown",
   "metadata": {
    "id": "AAvgNlCxENiD"
   },
   "source": [
    "### Load a new dataset with weather data for Zurich in 2015"
   ]
  },
  {
   "cell_type": "code",
   "execution_count": null,
   "metadata": {
    "id": "3Jgkdk27ENiD"
   },
   "outputs": [],
   "source": [
    "#load weather data for Zurich in 2015\n",
    "url15 = \"https://data.stadt-zuerich.ch/dataset/ugz_meteodaten_tagesmittelwerte/download/ugz_ogd_meteo_d1_2015.csv\"\n",
    "df_weather15 = pd.read_csv(url15)\n",
    "df_weather15 = df_weather15[df_weather15.Parameter == 'RainDur']\n",
    "\n",
    "#split the date into year, month and day format\n",
    "pd.to_datetime(df_weather15['Datum'])\n",
    "df_weather15[[\"year\", \"month\", \"day\"]] = df_weather15[\"Datum\"].str.split(\"-\", expand = True)\n",
    "df_weather15['YearMonth'] = df_weather15.apply(lambda x: '%s-%s' % (x['year'],x['month']), axis = 1)\n",
    "\n",
    "#create a new dataset with the total of rain per month for 2015\n",
    "df_rain15 = df_weather15.groupby(df_weather15.YearMonth).sum()\n",
    "df_rain15.reset_index(level=0, inplace=True)"
   ]
  },
  {
   "cell_type": "markdown",
   "metadata": {
    "id": "i3TvZdq7ENiD"
   },
   "source": [
    "### Load a new dataset with weather data for Zurich in 2014"
   ]
  },
  {
   "cell_type": "code",
   "execution_count": null,
   "metadata": {
    "id": "2l9AYHzdENiE",
    "scrolled": true
   },
   "outputs": [],
   "source": [
    "#load weather data for Zurich in 2014\n",
    "url14 = \"https://data.stadt-zuerich.ch/dataset/ugz_meteodaten_tagesmittelwerte/download/ugz_ogd_meteo_d1_2014.csv\"\n",
    "df_weather14 = pd.read_csv(url14)\n",
    "df_weather14 = df_weather14[df_weather14.Parameter == 'RainDur']\n",
    "\n",
    "#split the date into year, month and day format\n",
    "pd.to_datetime(df_weather14['Datum'])\n",
    "df_weather14[[\"year\", \"month\", \"day\"]] = df_weather14[\"Datum\"].str.split(\"-\", expand = True)\n",
    "df_weather14['YearMonth'] = df_weather14.apply(lambda x: '%s-%s' % (x['year'],x['month']), axis = 1)\n",
    "\n",
    "#create a new dataset with the total of rain per month for 2014\n",
    "df_rain14 = df_weather14.groupby(df_weather14.YearMonth).sum()\n",
    "df_rain14.reset_index(level=0, inplace=True)"
   ]
  },
  {
   "cell_type": "markdown",
   "metadata": {
    "id": "BKLpNiKKENiE"
   },
   "source": [
    "### Load a new dataset with weather data for Zurich in 2013"
   ]
  },
  {
   "cell_type": "code",
   "execution_count": null,
   "metadata": {
    "id": "g6vcfRthENiE",
    "scrolled": true
   },
   "outputs": [],
   "source": [
    "#load weather data for Zurich in 2013\n",
    "url13 = \"https://data.stadt-zuerich.ch/dataset/ugz_meteodaten_tagesmittelwerte/download/ugz_ogd_meteo_d1_2013.csv\"\n",
    "df_weather13 = pd.read_csv(url13)\n",
    "df_weather13 = df_weather13[df_weather13.Parameter == 'RainDur']\n",
    "\n",
    "#split the date into year, month and day format\n",
    "pd.to_datetime(df_weather13['Datum'])\n",
    "df_weather13[[\"year\", \"month\", \"day\"]] = df_weather13[\"Datum\"].str.split(\"-\", expand = True)\n",
    "df_weather13['YearMonth'] = df_weather13.apply(lambda x: '%s-%s' % (x['year'],x['month']), axis = 1)\n",
    "\n",
    "#create a new dataset with the total of rain per month for 2013\n",
    "df_rain13 = df_weather13.groupby(df_weather13.YearMonth).sum()\n",
    "df_rain13.reset_index(level=0, inplace=True)"
   ]
  },
  {
   "cell_type": "markdown",
   "metadata": {
    "id": "wqZeCUtrENiF"
   },
   "source": [
    "### Load a new dataset with weather data for Zurich in 2012"
   ]
  },
  {
   "cell_type": "code",
   "execution_count": null,
   "metadata": {
    "id": "qGBcDJeFENiF"
   },
   "outputs": [],
   "source": [
    "#load weather data for Zurich in 2012\n",
    "url12 = \"https://data.stadt-zuerich.ch/dataset/ugz_meteodaten_tagesmittelwerte/download/ugz_ogd_meteo_d1_2012.csv\"\n",
    "df_weather12 = pd.read_csv(url12)\n",
    "df_weather12 = df_weather12[df_weather12.Parameter == 'RainDur']\n",
    "\n",
    "#split the date into year, month and day format\n",
    "pd.to_datetime(df_weather12['Datum'])\n",
    "df_weather12[[\"year\", \"month\", \"day\"]] = df_weather12[\"Datum\"].str.split(\"-\", expand = True)\n",
    "df_weather12['YearMonth'] = df_weather12.apply(lambda x: '%s-%s' % (x['year'],x['month']), axis = 1)\n",
    "\n",
    "#create a new dataset with the total of rain per month for 2012\n",
    "df_rain12 = df_weather12.groupby(df_weather12.YearMonth).sum()\n",
    "df_rain12.reset_index(level=0, inplace=True)"
   ]
  },
  {
   "cell_type": "markdown",
   "metadata": {
    "id": "if3beylsENiF"
   },
   "source": [
    "### Load a new dataset with weather data for Zurich in 2011"
   ]
  },
  {
   "cell_type": "code",
   "execution_count": null,
   "metadata": {
    "id": "uOFxaEyGENiF"
   },
   "outputs": [],
   "source": [
    "#load weather data for Zurich in 2011\n",
    "url11 = \"https://data.stadt-zuerich.ch/dataset/ugz_meteodaten_tagesmittelwerte/download/ugz_ogd_meteo_d1_2011.csv\"\n",
    "df_weather11 = pd.read_csv(url11)\n",
    "df_weather11 = df_weather11[df_weather11.Parameter == 'RainDur']\n",
    "\n",
    "#split the date into year, month and day format\n",
    "pd.to_datetime(df_weather11['Datum'])\n",
    "df_weather11[[\"year\", \"month\", \"day\"]] = df_weather11[\"Datum\"].str.split(\"-\", expand = True)\n",
    "df_weather11['YearMonth'] = df_weather11.apply(lambda x: '%s-%s' % (x['year'],x['month']), axis = 1)\n",
    "\n",
    "#create a new dataset with the total of rain per month for 2011\n",
    "df_rain11 = df_weather11.groupby(df_weather11.YearMonth).sum()\n",
    "df_rain11.reset_index(level=0, inplace=True)"
   ]
  },
  {
   "cell_type": "markdown",
   "metadata": {
    "id": "9rXfuxTTENiG"
   },
   "source": [
    "### Consolidation of weather data from 2011 to 2020 for Zurich"
   ]
  },
  {
   "cell_type": "code",
   "execution_count": null,
   "metadata": {
    "id": "O_pIKQkwENiG",
    "outputId": "fc976dd1-c5cf-43e5-becf-b9a849cdb98c"
   },
   "outputs": [],
   "source": [
    "df_rain = pd.concat([df_rain11, df_rain12, df_rain13, df_rain14, df_rain15, df_rain16, \n",
    "                     df_rain17, df_rain18, df_rain19, df_rain20])\n",
    "df_rain"
   ]
  },
  {
   "cell_type": "markdown",
   "metadata": {
    "id": "dEievpvqENiG"
   },
   "source": [
    "### Consolidation of weather and accident data from 2011 to 2020 for Zurich"
   ]
  },
  {
   "cell_type": "code",
   "execution_count": null,
   "metadata": {
    "id": "d0YZ4TGzENiH",
    "outputId": "262829cd-9591-4af4-ac67-4a8681990ff6"
   },
   "outputs": [],
   "source": [
    "#merge the two datasets df_zh_count and df_rain\n",
    "df_merged = pd.merge(df_zh_count, df_rain, on='YearMonth')\n",
    "df_merged = df_merged.rename(columns={'month':'Month','Wert':'Amount of Rain'})\n",
    "df_merged"
   ]
  },
  {
   "cell_type": "markdown",
   "metadata": {
    "id": "nGNnUoztHcM6"
   },
   "source": [
    "#### Regression"
   ]
  },
  {
   "cell_type": "code",
   "execution_count": null,
   "metadata": {
    "id": "U4qlmcR6ENiH",
    "outputId": "9bf35455-6ab6-4089-8f06-611fde5a3677"
   },
   "outputs": [],
   "source": [
    "#Regression: the impact of rain on the total amount of accidents per month\n",
    "rain = df_merged['Amount of Rain']\n",
    "acc  = df_merged['Accident Count']\n",
    "slope, intercept, r_value, p_value, std_err = stats.linregress(rain,acc)\n",
    "print (slope, intercept)\n",
    "\n",
    "print ('%1.2f +- %1.2f' % (slope,std_err))\n",
    "\n",
    "ax = df_merged.plot(x='Amount of Rain',y='Accident Count',kind=\"scatter\",c='c')\n",
    "plt.plot(rain, intercept + slope*rain, 'b', label='Fitted treated line')\n",
    "plt.show()\n",
    "p_value"
   ]
  },
  {
   "cell_type": "markdown",
   "metadata": {
    "id": "3BftiVT9ENiH"
   },
   "source": [
    "#### The results appear to be significant (p-value = 0.0001196) and imply that the amount of rain has a negative effect on the number of accidents."
   ]
  },
  {
   "cell_type": "code",
   "execution_count": null,
   "metadata": {
    "id": "zlP7ZCUPENiI"
   },
   "outputs": [],
   "source": [
    "#change the type from float to integer\n",
    "df_merged['Amount of Rain'] = df_merged['Amount of Rain'].astype('int64')"
   ]
  },
  {
   "cell_type": "code",
   "execution_count": null,
   "metadata": {
    "id": "llNmkLf5ENiI"
   },
   "outputs": [],
   "source": [
    "#create a subset out of the df_merged dataset\n",
    "df_merged_new = df_merged.copy()\n",
    "df_merged_new = df_merged_new[['Accident Count','Amount of Rain']]"
   ]
  },
  {
   "cell_type": "code",
   "execution_count": null,
   "metadata": {
    "id": "-90hcu4RENiI",
    "outputId": "ca6987c4-cf73-4281-bd6e-e9709432366b",
    "scrolled": true
   },
   "outputs": [],
   "source": [
    "#t-test statistic\n",
    "stats.ttest_1samp(a=df_merged_new,popmean=2.3, alternative='two-sided')\n",
    "\n",
    "#the p-value is very small which is hard to interpret."
   ]
  },
  {
   "cell_type": "code",
   "execution_count": null,
   "metadata": {
    "id": "nKNm3Hh2ENiJ",
    "outputId": "30c01875-2d54-442c-833a-b32a6dc0308c"
   },
   "outputs": [],
   "source": [
    "#sign-test statistic\n",
    "import statsmodels.stats.descriptivestats as dstat\n",
    "dstat.sign_test(df_merged_new, mu0=3.3)"
   ]
  },
  {
   "cell_type": "markdown",
   "metadata": {
    "id": "ZD4aW9aAEO6p"
   },
   "source": [
    "## 6) Conclusion\n",
    "Text"
   ]
  },
  {
   "cell_type": "code",
   "execution_count": null,
   "metadata": {},
   "outputs": [],
   "source": []
  }
 ],
 "metadata": {
  "colab": {
   "collapsed_sections": [
    "LDrgCMrKEO6n",
    "XhPwl8InEO6o",
    "XyI7jZHNEO6p",
    "uoiau0knENiA",
    "7Vua81zAENiA",
    "ucWYCAtrENiB",
    "cuYNUSEVENiC",
    "r0ONY_wKENiC",
    "AAvgNlCxENiD",
    "i3TvZdq7ENiD",
    "BKLpNiKKENiE",
    "wqZeCUtrENiF",
    "if3beylsENiF",
    "9rXfuxTTENiG",
    "dEievpvqENiG",
    "nGNnUoztHcM6",
    "3BftiVT9ENiH"
   ],
   "name": "Master-Notebook_Statistical-Analysis_Accident-Data-CH.ipynb",
   "provenance": []
  },
  "kernelspec": {
   "display_name": "Python 3",
   "language": "python",
   "name": "python3"
  },
  "language_info": {
   "codemirror_mode": {
    "name": "ipython",
    "version": 3
   },
   "file_extension": ".py",
   "mimetype": "text/x-python",
   "name": "python",
   "nbconvert_exporter": "python",
   "pygments_lexer": "ipython3",
   "version": "3.8.8"
  }
 },
 "nbformat": 4,
 "nbformat_minor": 1
}
